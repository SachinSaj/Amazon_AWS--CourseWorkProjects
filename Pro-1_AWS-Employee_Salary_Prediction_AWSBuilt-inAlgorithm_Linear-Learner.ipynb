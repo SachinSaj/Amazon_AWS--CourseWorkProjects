{
 "cells": [
  {
   "cell_type": "markdown",
   "metadata": {},
   "source": [
    "#### Loading the Libraires"
   ]
  },
  {
   "cell_type": "code",
   "execution_count": 1,
   "metadata": {},
   "outputs": [],
   "source": [
    "import pandas as pd\n",
    "import seaborn as sns\n",
    "import matplotlib.pyplot as plt\n",
    "import numpy as np\n",
    "from sklearn.model_selection import train_test_split"
   ]
  },
  {
   "cell_type": "markdown",
   "metadata": {},
   "source": [
    "#### Loading the Data"
   ]
  },
  {
   "cell_type": "code",
   "execution_count": 35,
   "metadata": {},
   "outputs": [],
   "source": [
    "salary_df = pd.read_csv('salary.csv')"
   ]
  },
  {
   "cell_type": "code",
   "execution_count": 36,
   "metadata": {},
   "outputs": [
    {
     "data": {
      "text/html": [
       "<div>\n",
       "<style scoped>\n",
       "    .dataframe tbody tr th:only-of-type {\n",
       "        vertical-align: middle;\n",
       "    }\n",
       "\n",
       "    .dataframe tbody tr th {\n",
       "        vertical-align: top;\n",
       "    }\n",
       "\n",
       "    .dataframe thead th {\n",
       "        text-align: right;\n",
       "    }\n",
       "</style>\n",
       "<table border=\"1\" class=\"dataframe\">\n",
       "  <thead>\n",
       "    <tr style=\"text-align: right;\">\n",
       "      <th></th>\n",
       "      <th>YearsExperience</th>\n",
       "      <th>Salary</th>\n",
       "    </tr>\n",
       "  </thead>\n",
       "  <tbody>\n",
       "    <tr>\n",
       "      <th>0</th>\n",
       "      <td>1.1</td>\n",
       "      <td>39343</td>\n",
       "    </tr>\n",
       "    <tr>\n",
       "      <th>1</th>\n",
       "      <td>1.3</td>\n",
       "      <td>46205</td>\n",
       "    </tr>\n",
       "    <tr>\n",
       "      <th>2</th>\n",
       "      <td>1.5</td>\n",
       "      <td>37731</td>\n",
       "    </tr>\n",
       "    <tr>\n",
       "      <th>3</th>\n",
       "      <td>2.0</td>\n",
       "      <td>43525</td>\n",
       "    </tr>\n",
       "    <tr>\n",
       "      <th>4</th>\n",
       "      <td>2.2</td>\n",
       "      <td>39891</td>\n",
       "    </tr>\n",
       "  </tbody>\n",
       "</table>\n",
       "</div>"
      ],
      "text/plain": [
       "   YearsExperience  Salary\n",
       "0              1.1   39343\n",
       "1              1.3   46205\n",
       "2              1.5   37731\n",
       "3              2.0   43525\n",
       "4              2.2   39891"
      ]
     },
     "execution_count": 36,
     "metadata": {},
     "output_type": "execute_result"
    }
   ],
   "source": [
    "salary_df.head(5)"
   ]
  },
  {
   "cell_type": "markdown",
   "metadata": {},
   "source": [
    "#### Data Cleaning"
   ]
  },
  {
   "cell_type": "code",
   "execution_count": 37,
   "metadata": {},
   "outputs": [
    {
     "data": {
      "text/plain": [
       "YearsExperience    0\n",
       "Salary             0\n",
       "dtype: int64"
      ]
     },
     "execution_count": 37,
     "metadata": {},
     "output_type": "execute_result"
    }
   ],
   "source": [
    "salary_df.isnull().sum()"
   ]
  },
  {
   "cell_type": "markdown",
   "metadata": {},
   "source": [
    "#### EDA"
   ]
  },
  {
   "cell_type": "code",
   "execution_count": 38,
   "metadata": {},
   "outputs": [
    {
     "name": "stdout",
     "output_type": "stream",
     "text": [
      "<class 'pandas.core.frame.DataFrame'>\n",
      "RangeIndex: 35 entries, 0 to 34\n",
      "Data columns (total 2 columns):\n",
      " #   Column           Non-Null Count  Dtype  \n",
      "---  ------           --------------  -----  \n",
      " 0   YearsExperience  35 non-null     float64\n",
      " 1   Salary           35 non-null     int64  \n",
      "dtypes: float64(1), int64(1)\n",
      "memory usage: 688.0 bytes\n"
     ]
    }
   ],
   "source": [
    "salary_df.info()"
   ]
  },
  {
   "cell_type": "code",
   "execution_count": 39,
   "metadata": {},
   "outputs": [
    {
     "data": {
      "text/html": [
       "<div>\n",
       "<style scoped>\n",
       "    .dataframe tbody tr th:only-of-type {\n",
       "        vertical-align: middle;\n",
       "    }\n",
       "\n",
       "    .dataframe tbody tr th {\n",
       "        vertical-align: top;\n",
       "    }\n",
       "\n",
       "    .dataframe thead th {\n",
       "        text-align: right;\n",
       "    }\n",
       "</style>\n",
       "<table border=\"1\" class=\"dataframe\">\n",
       "  <thead>\n",
       "    <tr style=\"text-align: right;\">\n",
       "      <th></th>\n",
       "      <th>YearsExperience</th>\n",
       "      <th>Salary</th>\n",
       "    </tr>\n",
       "  </thead>\n",
       "  <tbody>\n",
       "    <tr>\n",
       "      <th>count</th>\n",
       "      <td>35.000000</td>\n",
       "      <td>35.000000</td>\n",
       "    </tr>\n",
       "    <tr>\n",
       "      <th>mean</th>\n",
       "      <td>6.308571</td>\n",
       "      <td>83945.600000</td>\n",
       "    </tr>\n",
       "    <tr>\n",
       "      <th>std</th>\n",
       "      <td>3.618610</td>\n",
       "      <td>32162.673003</td>\n",
       "    </tr>\n",
       "    <tr>\n",
       "      <th>min</th>\n",
       "      <td>1.100000</td>\n",
       "      <td>37731.000000</td>\n",
       "    </tr>\n",
       "    <tr>\n",
       "      <th>25%</th>\n",
       "      <td>3.450000</td>\n",
       "      <td>57019.000000</td>\n",
       "    </tr>\n",
       "    <tr>\n",
       "      <th>50%</th>\n",
       "      <td>5.300000</td>\n",
       "      <td>81363.000000</td>\n",
       "    </tr>\n",
       "    <tr>\n",
       "      <th>75%</th>\n",
       "      <td>9.250000</td>\n",
       "      <td>113223.500000</td>\n",
       "    </tr>\n",
       "    <tr>\n",
       "      <th>max</th>\n",
       "      <td>13.500000</td>\n",
       "      <td>139465.000000</td>\n",
       "    </tr>\n",
       "  </tbody>\n",
       "</table>\n",
       "</div>"
      ],
      "text/plain": [
       "       YearsExperience         Salary\n",
       "count        35.000000      35.000000\n",
       "mean          6.308571   83945.600000\n",
       "std           3.618610   32162.673003\n",
       "min           1.100000   37731.000000\n",
       "25%           3.450000   57019.000000\n",
       "50%           5.300000   81363.000000\n",
       "75%           9.250000  113223.500000\n",
       "max          13.500000  139465.000000"
      ]
     },
     "execution_count": 39,
     "metadata": {},
     "output_type": "execute_result"
    }
   ],
   "source": [
    "salary_df.describe()"
   ]
  },
  {
   "cell_type": "code",
   "execution_count": 40,
   "metadata": {},
   "outputs": [
    {
     "data": {
      "text/plain": [
       "array([[<matplotlib.axes._subplots.AxesSubplot object at 0x7fbd02577fd0>,\n",
       "        <matplotlib.axes._subplots.AxesSubplot object at 0x7fbd02599ed0>]],\n",
       "      dtype=object)"
      ]
     },
     "execution_count": 40,
     "metadata": {},
     "output_type": "execute_result"
    },
    {
     "data": {
      "image/png": "[encoded data removed]",
      "text/plain": [
       "<Figure size 1440x504 with 2 Axes>"
      ]
     },
     "metadata": {
      "needs_background": "light"
     },
     "output_type": "display_data"
    }
   ],
   "source": [
    "salary_df.hist(bins=20, figsize = (20,7), color = 'r')"
   ]
  },
  {
   "cell_type": "code",
   "execution_count": 41,
   "metadata": {},
   "outputs": [
    {
     "data": {
      "text/plain": [
       "<seaborn.axisgrid.PairGrid at 0x7fbd02481410>"
      ]
     },
     "execution_count": 41,
     "metadata": {},
     "output_type": "execute_result"
    },
    {
     "data": {
      "image/png": "[encoded data removed]",
      "text/plain": [
       "<Figure size 360x360 with 6 Axes>"
      ]
     },
     "metadata": {
      "needs_background": "light"
     },
     "output_type": "display_data"
    }
   ],
   "source": [
    "sns.pairplot(salary_df)"
   ]
  },
  {
   "cell_type": "code",
   "execution_count": 42,
   "metadata": {},
   "outputs": [
    {
     "data": {
      "image/png": "[encoded data removed]",
      "text/plain": [
       "<Figure size 432x288 with 2 Axes>"
      ]
     },
     "metadata": {
      "needs_background": "light"
     },
     "output_type": "display_data"
    }
   ],
   "source": [
    "corr_matrix = salary_df.corr()\n",
    "sns.heatmap(corr_matrix, annot = True)\n",
    "plt.show()"
   ]
  },
  {
   "cell_type": "code",
   "execution_count": 43,
   "metadata": {},
   "outputs": [
    {
     "name": "stdout",
     "output_type": "stream",
     "text": [
      "Salary of most experienced employee:  139465\n"
     ]
    }
   ],
   "source": [
    "max_years = salary_df.YearsExperience.max()\n",
    "\n",
    "for i in range(len(salary_df)):\n",
    "    if salary_df.YearsExperience[i] == max_years:\n",
    "        print(\"Salary of most experienced employee: \",salary_df.Salary[i])"
   ]
  },
  {
   "cell_type": "code",
   "execution_count": 44,
   "metadata": {},
   "outputs": [
    {
     "name": "stdout",
     "output_type": "stream",
     "text": [
      "Salary of most experienced employee:  39343\n"
     ]
    }
   ],
   "source": [
    "min_years = salary_df.YearsExperience.min()\n",
    "\n",
    "for i in range(len(salary_df)):\n",
    "    if salary_df.YearsExperience[i] == min_years:\n",
    "        print(\"Salary of most experienced employee: \",salary_df.Salary[i])"
   ]
  },
  {
   "cell_type": "markdown",
   "metadata": {},
   "source": [
    "#### Preparing Data for Training"
   ]
  },
  {
   "cell_type": "code",
   "execution_count": 45,
   "metadata": {},
   "outputs": [],
   "source": [
    "X = salary_df.drop(['Salary'],axis=1)\n",
    "Y = salary_df[['Salary']]\n",
    "\n",
    "X = np.array(X).astype('float32')\n",
    "Y = np.array(Y).astype('float32')"
   ]
  },
  {
   "cell_type": "code",
   "execution_count": 46,
   "metadata": {},
   "outputs": [],
   "source": [
    "x_train, x_test, y_train, y_test = train_test_split(X,Y, test_size=0.2, random_state=42)"
   ]
  },
  {
   "cell_type": "code",
   "execution_count": 47,
   "metadata": {},
   "outputs": [
    {
     "name": "stdout",
     "output_type": "stream",
     "text": [
      "(28, 1)\n",
      "(28, 1)\n",
      "(7, 1)\n",
      "(7, 1)\n"
     ]
    }
   ],
   "source": [
    "print(x_train.shape)\n",
    "print(y_train.shape)\n",
    "print(x_test.shape)\n",
    "print(y_test.shape)"
   ]
  },
  {
   "cell_type": "code",
   "execution_count": 48,
   "metadata": {},
   "outputs": [
    {
     "data": {
      "text/plain": [
       "(28, 1)"
      ]
     },
     "execution_count": 48,
     "metadata": {},
     "output_type": "execute_result"
    }
   ],
   "source": [
    "x_train.shape"
   ]
  },
  {
   "cell_type": "code",
   "execution_count": 49,
   "metadata": {},
   "outputs": [],
   "source": [
    "y_train = y_train[:,0]"
   ]
  },
  {
   "cell_type": "code",
   "execution_count": 50,
   "metadata": {},
   "outputs": [
    {
     "data": {
      "text/plain": [
       "(28,)"
      ]
     },
     "execution_count": 50,
     "metadata": {},
     "output_type": "execute_result"
    }
   ],
   "source": [
    "y_train.shape"
   ]
  },
  {
   "cell_type": "code",
   "execution_count": 51,
   "metadata": {},
   "outputs": [
    {
     "data": {
      "text/plain": [
       "(7, 1)"
      ]
     },
     "execution_count": 51,
     "metadata": {},
     "output_type": "execute_result"
    }
   ],
   "source": [
    "x_test.shape"
   ]
  },
  {
   "cell_type": "code",
   "execution_count": 52,
   "metadata": {},
   "outputs": [],
   "source": [
    "y_test = y_test[:,0]"
   ]
  },
  {
   "cell_type": "code",
   "execution_count": 53,
   "metadata": {},
   "outputs": [
    {
     "data": {
      "text/plain": [
       "(7,)"
      ]
     },
     "execution_count": 53,
     "metadata": {},
     "output_type": "execute_result"
    }
   ],
   "source": [
    "y_test.shape"
   ]
  },
  {
   "cell_type": "markdown",
   "metadata": {},
   "source": [
    "#### Amazon Sagemaker"
   ]
  },
  {
   "cell_type": "code",
   "execution_count": 55,
   "metadata": {},
   "outputs": [
    {
     "name": "stderr",
     "output_type": "stream",
     "text": [
      "Couldn't call 'get_role' to get Role ARN from role name AmazonSageMaker-ExecutionRole-20210421T142169 to get Role path.\n",
      "Assuming role was created in SageMaker AWS console, as the name contains `AmazonSageMaker-ExecutionRole`. Defaulting to Role ARN with service-role in path. If this Role ARN is incorrect, please add IAM read permissions to your role or supply the Role Arn directly.\n"
     ]
    },
    {
     "name": "stdout",
     "output_type": "stream",
     "text": [
      "arn:aws:iam::166845263086:role/service-role/AmazonSageMaker-ExecutionRole-20210421T142169\n"
     ]
    }
   ],
   "source": [
    "# Boto3 is the Amazon Web Services (AWS) Software Development Kit (SDK) for Python\n",
    "# Boto3 allows Python developer to write software that makes use of services like Amazon S3 and Amazon EC2\n",
    "\n",
    "import sagemaker\n",
    "import boto3\n",
    "from sagemaker.amazon.amazon_estimator import get_image_uri\n",
    "\n",
    "# Let's create a Sagemaker session\n",
    "sagemaker_session = sagemaker.Session()\n",
    "\n",
    "# Let's define the S3 bucket and prefix that we want to use in this session\n",
    "bucket = 'sagemaker-studio-166845263086-nj50w9nc038'\n",
    "prefix = 'linear_learner' # prefix is the subfolder within the bucket.\n",
    "\n",
    "# Let's get the execution role for the notebook instance. \n",
    "# This is the IAM role that you created when you created your notebook instance. You pass the role to the training job.\n",
    "# Note that AWS Identity and Access Management (IAM) role that Amazon SageMaker can assume to perform tasks on your behalf (for example, reading training results, called model artifacts, from the S3 bucket and writing training results to Amazon S3).\n",
    "role = sagemaker.get_execution_role()\n",
    "print(role)"
   ]
  },
  {
   "cell_type": "code",
   "execution_count": 56,
   "metadata": {},
   "outputs": [
    {
     "data": {
      "text/plain": [
       "0"
      ]
     },
     "execution_count": 56,
     "metadata": {},
     "output_type": "execute_result"
    }
   ],
   "source": [
    "import io # The io module allows for dealing with various types of I/O (text I/O, binary I/O and raw I/O). \n",
    "import numpy as np\n",
    "import sagemaker.amazon.common as smac # sagemaker common libary\n",
    "\n",
    "# Code below converts the data in numpy array format to RecordIO format\n",
    "# This is the format required by Sagemaker Linear Learner\n",
    "\n",
    "buf = io.BytesIO() # create an in-memory byte array (buf is a buffer I will be writing to)\n",
    "smac.write_numpy_to_dense_tensor(buf, x_train, y_train)\n",
    "buf.seek(0) \n",
    "# When you write to in-memory byte arrays, it increments 1 every time you write to it\n",
    "# Let's reset that back to zero "
   ]
  },
  {
   "cell_type": "code",
   "execution_count": 57,
   "metadata": {},
   "outputs": [
    {
     "name": "stdout",
     "output_type": "stream",
     "text": [
      "uploaded training data location: s3://sagemaker-studio-166845263086-nj50w9nc038/linear_learner/train/linear-train-data\n"
     ]
    }
   ],
   "source": [
    "import os\n",
    "\n",
    "# Code to upload RecordIO data to S3\n",
    "# Key refers to the name of the file    \n",
    "key = 'linear-train-data'\n",
    "\n",
    "# The following code uploads the data in record-io format to S3 bucket to be accessed later for training\n",
    "boto3.resource('s3').Bucket(bucket).Object(os.path.join(prefix, 'train', key)).upload_fileobj(buf)\n",
    "\n",
    "# Let's print out the training data location in s3\n",
    "s3_train_data = 's3://{}/{}/train/{}'.format(bucket, prefix, key)\n",
    "print('uploaded training data location: {}'.format(s3_train_data))"
   ]
  },
  {
   "cell_type": "code",
   "execution_count": 59,
   "metadata": {},
   "outputs": [
    {
     "name": "stdout",
     "output_type": "stream",
     "text": [
      "uploaded training data location: s3://sagemaker-studio-166845263086-nj50w9nc038/linear_learner/test/linear-test-data\n",
      "Training artifacts will be uploaded to: s3://sagemaker-studio-166845263086-nj50w9nc038/linear_learner/output\n"
     ]
    }
   ],
   "source": [
    "# Code to upload RecordIO data to S3\n",
    "\n",
    "buf = io.BytesIO() # create an in-memory byte array (buf is a buffer I will be writing to)\n",
    "smac.write_numpy_to_dense_tensor(buf, x_test, y_test)\n",
    "buf.seek(0) \n",
    "# When you write to in-memory byte arrays, it increments 1 every time you write to it\n",
    "# Let's reset that back to zero \n",
    "\n",
    "# Key refers to the name of the file    \n",
    "key = 'linear-test-data'\n",
    "\n",
    "# The following code uploads the data in record-io format to S3 bucket to be accessed later for training\n",
    "boto3.resource('s3').Bucket(bucket).Object(os.path.join(prefix, 'test', key)).upload_fileobj(buf)\n",
    "\n",
    "# Let's print out the testing data location in s3\n",
    "s3_test_data = 's3://{}/{}/test/{}'.format(bucket, prefix, key)\n",
    "print('uploaded training data location: {}'.format(s3_test_data))\n",
    "\n",
    "# create an output placeholder in S3 bucket to store the linear learner output\n",
    "\n",
    "output_location = 's3://{}/{}/output'.format(bucket, prefix)\n",
    "print('Training artifacts will be uploaded to: {}'.format(output_location))"
   ]
  },
  {
   "cell_type": "code",
   "execution_count": 60,
   "metadata": {},
   "outputs": [
    {
     "name": "stderr",
     "output_type": "stream",
     "text": [
      "The method get_image_uri has been renamed in sagemaker>=2.\n",
      "See: https://sagemaker.readthedocs.io/en/stable/v2.html for details.\n",
      "Defaulting to the only supported framework/algorithm version: 1. Ignoring framework/algorithm version: 1.\n"
     ]
    }
   ],
   "source": [
    "# This code is used to get the training container of sagemaker built-in algorithms\n",
    "# all we have to do is to specify the name of the algorithm, that we want to use\n",
    "\n",
    "# Let's obtain a reference to the linearLearner container image\n",
    "# Note that all regression models are named estimators\n",
    "# You don't have to specify (hardcode) the region, get_image_uri will get the current region name using boto3.Session\n",
    "container = get_image_uri(boto3.Session().region_name, 'linear-learner')"
   ]
  },
  {
   "cell_type": "code",
   "execution_count": 61,
   "metadata": {},
   "outputs": [
    {
     "name": "stderr",
     "output_type": "stream",
     "text": [
      "train_instance_count has been renamed in sagemaker>=2.\n",
      "See: https://sagemaker.readthedocs.io/en/stable/v2.html for details.\n",
      "train_instance_type has been renamed in sagemaker>=2.\n",
      "See: https://sagemaker.readthedocs.io/en/stable/v2.html for details.\n",
      "train_max_run has been renamed in sagemaker>=2.\n",
      "See: https://sagemaker.readthedocs.io/en/stable/v2.html for details.\n",
      "train_use_spot_instances has been renamed in sagemaker>=2.\n",
      "See: https://sagemaker.readthedocs.io/en/stable/v2.html for details.\n",
      "train_max_wait has been renamed in sagemaker>=2.\n",
      "See: https://sagemaker.readthedocs.io/en/stable/v2.html for details.\n"
     ]
    },
    {
     "name": "stdout",
     "output_type": "stream",
     "text": [
      "2021-04-21 10:01:34 Starting - Starting the training job...\n",
      "2021-04-21 10:01:35 Starting - Launching requested ML instancesProfilerReport-1618999294: InProgress\n",
      "...\n",
      "2021-04-21 10:02:20 Starting - Insufficient capacity error from EC2 while launching instances, retrying!...\n",
      "2021-04-21 10:03:02 Starting - Preparing the instances for training.........\n",
      "2021-04-21 10:04:29 Downloading - Downloading input data...\n",
      "2021-04-21 10:04:56 Training - Training image download completed. Training in progress..\u001b[34mDocker entrypoint called with argument(s): train\u001b[0m\n",
      "\u001b[34mRunning default environment configuration script\u001b[0m\n",
      "\u001b[34m[04/21/2021 10:05:01 INFO 140109431228224] Reading default configuration from /opt/amazon/lib/python3.7/site-packages/algorithm/resources/default-input.json: {'mini_batch_size': '1000', 'epochs': '15', 'feature_dim': 'auto', 'use_bias': 'true', 'binary_classifier_model_selection_criteria': 'accuracy', 'f_beta': '1.0', 'target_recall': '0.8', 'target_precision': '0.8', 'num_models': 'auto', 'num_calibration_samples': '10000000', 'init_method': 'uniform', 'init_scale': '0.07', 'init_sigma': '0.01', 'init_bias': '0.0', 'optimizer': 'auto', 'loss': 'auto', 'margin': '1.0', 'quantile': '0.5', 'loss_insensitivity': '0.01', 'huber_delta': '1.0', 'num_classes': '1', 'accuracy_top_k': '3', 'wd': 'auto', 'l1': 'auto', 'momentum': 'auto', 'learning_rate': 'auto', 'beta_1': 'auto', 'beta_2': 'auto', 'bias_lr_mult': 'auto', 'bias_wd_mult': 'auto', 'use_lr_scheduler': 'true', 'lr_scheduler_step': 'auto', 'lr_scheduler_factor': 'auto', 'lr_scheduler_minimum_lr': 'auto', 'positive_example_weight_mult': '1.0', 'balance_multiclass_weights': 'false', 'normalize_data': 'true', 'normalize_label': 'auto', 'unbias_data': 'auto', 'unbias_label': 'auto', 'num_point_for_scaler': '10000', '_kvstore': 'auto', '_num_gpus': 'auto', '_num_kv_servers': 'auto', '_log_level': 'info', '_tuning_objective_metric': '', 'early_stopping_patience': '3', 'early_stopping_tolerance': '0.001', '_enable_profiler': 'false'}\u001b[0m\n",
      "\u001b[34m[04/21/2021 10:05:01 INFO 140109431228224] Merging with provided configuration from /opt/ml/input/config/hyperparameters.json: {'loss': 'absolute_loss', 'feature_dim': '1', 'num_models': '32', 'predictor_type': 'regressor', 'epochs': '5', 'mini_batch_size': '5'}\u001b[0m\n",
      "\u001b[34m[04/21/2021 10:05:01 INFO 140109431228224] Final configuration: {'mini_batch_size': '5', 'epochs': '5', 'feature_dim': '1', 'use_bias': 'true', 'binary_classifier_model_selection_criteria': 'accuracy', 'f_beta': '1.0', 'target_recall': '0.8', 'target_precision': '0.8', 'num_models': '32', 'num_calibration_samples': '10000000', 'init_method': 'uniform', 'init_scale': '0.07', 'init_sigma': '0.01', 'init_bias': '0.0', 'optimizer': 'auto', 'loss': 'absolute_loss', 'margin': '1.0', 'quantile': '0.5', 'loss_insensitivity': '0.01', 'huber_delta': '1.0', 'num_classes': '1', 'accuracy_top_k': '3', 'wd': 'auto', 'l1': 'auto', 'momentum': 'auto', 'learning_rate': 'auto', 'beta_1': 'auto', 'beta_2': 'auto', 'bias_lr_mult': 'auto', 'bias_wd_mult': 'auto', 'use_lr_scheduler': 'true', 'lr_scheduler_step': 'auto', 'lr_scheduler_factor': 'auto', 'lr_scheduler_minimum_lr': 'auto', 'positive_example_weight_mult': '1.0', 'balance_multiclass_weights': 'false', 'normalize_data': 'true', 'normalize_label': 'auto', 'unbias_data': 'auto', 'unbias_label': 'auto', 'num_point_for_scaler': '10000', '_kvstore': 'auto', '_num_gpus': 'auto', '_num_kv_servers': 'auto', '_log_level': 'info', '_tuning_objective_metric': '', 'early_stopping_patience': '3', 'early_stopping_tolerance': '0.001', '_enable_profiler': 'false', 'predictor_type': 'regressor'}\u001b[0m\n",
      "\u001b[34m[04/21/2021 10:05:01 WARNING 140109431228224] Loggers have already been setup.\u001b[0m\n",
      "\u001b[34mProcess 1 is a worker.\u001b[0m\n",
      "\u001b[34m[04/21/2021 10:05:01 INFO 140109431228224] Using default worker.\u001b[0m\n",
      "\u001b[34m[04/21/2021 10:05:01 INFO 140109431228224] Checkpoint loading and saving are disabled.\u001b[0m\n",
      "\u001b[34m[2021-04-21 10:05:01.524] [tensorio] [info] epoch_stats={\"data_pipeline\": \"/opt/ml/input/data/train\", \"epoch\": 0, \"duration\": 17, \"num_examples\": 1, \"num_bytes\": 240}\u001b[0m\n",
      "\u001b[34m[04/21/2021 10:05:01 INFO 140109431228224] Create Store: local\u001b[0m\n",
      "\u001b[34m[2021-04-21 10:05:01.590] [tensorio] [info] epoch_stats={\"data_pipeline\": \"/opt/ml/input/data/train\", \"epoch\": 1, \"duration\": 65, \"num_examples\": 6, \"num_bytes\": 1344}\u001b[0m\n",
      "\u001b[34m[04/21/2021 10:05:01 INFO 140109431228224] Scaler algorithm parameters\n",
      " <algorithm.scaler.ScalerAlgorithmStable object at 0x7f6d648de1d0>\u001b[0m\n",
      "\u001b[34m[04/21/2021 10:05:01 INFO 140109431228224] Scaling model computed with parameters:\n",
      " {'stdev_label': \u001b[0m\n",
      "\u001b[34m[33272.05]\u001b[0m\n",
      "\u001b[34m<NDArray 1 @cpu(0)>, 'stdev_weight': \u001b[0m\n",
      "\u001b[34m[3.8677125]\u001b[0m\n",
      "\u001b[34m<NDArray 1 @cpu(0)>, 'mean_label': \u001b[0m\n",
      "\u001b[34m[81385.805]\u001b[0m\n",
      "\u001b[34m<NDArray 1 @cpu(0)>, 'mean_weight': \u001b[0m\n",
      "\u001b[34m[6.080001]\u001b[0m\n",
      "\u001b[34m<NDArray 1 @cpu(0)>}\u001b[0m\n",
      "\u001b[34m[04/21/2021 10:05:01 INFO 140109431228224] nvidia-smi: took 0.035 seconds to run.\u001b[0m\n",
      "\u001b[34m[04/21/2021 10:05:01 INFO 140109431228224] nvidia-smi identified 0 GPUs.\u001b[0m\n",
      "\u001b[34m[04/21/2021 10:05:01 INFO 140109431228224] Number of GPUs being used: 0\u001b[0m\n",
      "\u001b[34m#metrics {\"StartTime\": 1618999501.6879542, \"EndTime\": 1618999501.6879876, \"Dimensions\": {\"Algorithm\": \"Linear Learner\", \"Host\": \"algo-1\", \"Operation\": \"training\", \"Meta\": \"init_train_data_iter\"}, \"Metrics\": {\"Total Records Seen\": {\"sum\": 33.0, \"count\": 1, \"min\": 33, \"max\": 33}, \"Total Batches Seen\": {\"sum\": 7.0, \"count\": 1, \"min\": 7, \"max\": 7}, \"Max Records Seen Between Resets\": {\"sum\": 28.0, \"count\": 1, \"min\": 28, \"max\": 28}, \"Max Batches Seen Between Resets\": {\"sum\": 6.0, \"count\": 1, \"min\": 6, \"max\": 6}, \"Reset Count\": {\"sum\": 2.0, \"count\": 1, \"min\": 2, \"max\": 2}, \"Number of Records Since Last Reset\": {\"sum\": 0.0, \"count\": 1, \"min\": 0, \"max\": 0}, \"Number of Batches Since Last Reset\": {\"sum\": 0.0, \"count\": 1, \"min\": 0, \"max\": 0}}}\n",
      "\u001b[0m\n",
      "\u001b[34m[2021-04-21 10:05:01.835] [tensorio] [info] epoch_stats={\"data_pipeline\": \"/opt/ml/input/data/train\", \"epoch\": 4, \"duration\": 146, \"num_examples\": 6, \"num_bytes\": 1344}\u001b[0m\n",
      "\u001b[34m#metrics {\"StartTime\": 1618999501.835399, \"EndTime\": 1618999501.8355007, \"Dimensions\": {\"Algorithm\": \"Linear Learner\", \"Host\": \"algo-1\", \"Operation\": \"training\", \"epoch\": 0, \"model\": 0}, \"Metrics\": {\"train_absolute_loss_objective\": {\"sum\": 0.8996445083618164, \"count\": 1, \"min\": 0.8996445083618164, \"max\": 0.8996445083618164}}}\n",
      "\u001b[0m\n",
      "\u001b[34m#metrics {\"StartTime\": 1618999501.8355906, \"EndTime\": 1618999501.8356073, \"Dimensions\": {\"Algorithm\": \"Linear Learner\", \"Host\": \"algo-1\", \"Operation\": \"training\", \"epoch\": 0, \"model\": 1}, \"Metrics\": {\"train_absolute_loss_objective\": {\"sum\": 0.9192336082458497, \"count\": 1, \"min\": 0.9192336082458497, \"max\": 0.9192336082458497}}}\n",
      "\u001b[0m\n",
      "\u001b[34m#metrics {\"StartTime\": 1618999501.835651, \"EndTime\": 1618999501.8356602, \"Dimensions\": {\"Algorithm\": \"Linear Learner\", \"Host\": \"algo-1\", \"Operation\": \"training\", \"epoch\": 0, \"model\": 2}, \"Metrics\": {\"train_absolute_loss_objective\": {\"sum\": 0.9020174598693848, \"count\": 1, \"min\": 0.9020174598693848, \"max\": 0.9020174598693848}}}\n",
      "\u001b[0m\n",
      "\u001b[34m#metrics {\"StartTime\": 1618999501.8357205, \"EndTime\": 1618999501.8357317, \"Dimensions\": {\"Algorithm\": \"Linear Learner\", \"Host\": \"algo-1\", \"Operation\": \"training\", \"epoch\": 0, \"model\": 3}, \"Metrics\": {\"train_absolute_loss_objective\": {\"sum\": 0.9182324981689454, \"count\": 1, \"min\": 0.9182324981689454, \"max\": 0.9182324981689454}}}\n",
      "\u001b[0m\n",
      "\u001b[34m#metrics {\"StartTime\": 1618999501.8357706, \"EndTime\": 1618999501.8357816, \"Dimensions\": {\"Algorithm\": \"Linear Learner\", \"Host\": \"algo-1\", \"Operation\": \"training\", \"epoch\": 0, \"model\": 4}, \"Metrics\": {\"train_absolute_loss_objective\": {\"sum\": 0.9405512237548828, \"count\": 1, \"min\": 0.9405512237548828, \"max\": 0.9405512237548828}}}\n",
      "\u001b[0m\n",
      "\u001b[34m#metrics {\"StartTime\": 1618999501.8358212, \"EndTime\": 1618999501.835832, \"Dimensions\": {\"Algorithm\": \"Linear Learner\", \"Host\": \"algo-1\", \"Operation\": \"training\", \"epoch\": 0, \"model\": 5}, \"Metrics\": {\"train_absolute_loss_objective\": {\"sum\": 0.9450046157836914, \"count\": 1, \"min\": 0.9450046157836914, \"max\": 0.9450046157836914}}}\n",
      "\u001b[0m\n",
      "\u001b[34m#metrics {\"StartTime\": 1618999501.8358707, \"EndTime\": 1618999501.8358808, \"Dimensions\": {\"Algorithm\": \"Linear Learner\", \"Host\": \"algo-1\", \"Operation\": \"training\", \"epoch\": 0, \"model\": 6}, \"Metrics\": {\"train_absolute_loss_objective\": {\"sum\": 0.9866208553314209, \"count\": 1, \"min\": 0.9866208553314209, \"max\": 0.9866208553314209}}}\n",
      "\u001b[0m\n",
      "\u001b[34m#metrics {\"StartTime\": 1618999501.835921, \"EndTime\": 1618999501.8359315, \"Dimensions\": {\"Algorithm\": \"Linear Learner\", \"Host\": \"algo-1\", \"Operation\": \"training\", \"epoch\": 0, \"model\": 7}, \"Metrics\": {\"train_absolute_loss_objective\": {\"sum\": 0.9709941673278809, \"count\": 1, \"min\": 0.9709941673278809, \"max\": 0.9709941673278809}}}\n",
      "\u001b[0m\n",
      "\u001b[34m#metrics {\"StartTime\": 1618999501.8359706, \"EndTime\": 1618999501.835981, \"Dimensions\": {\"Algorithm\": \"Linear Learner\", \"Host\": \"algo-1\", \"Operation\": \"training\", \"epoch\": 0, \"model\": 8}, \"Metrics\": {\"train_absolute_loss_objective\": {\"sum\": 0.9546458053588868, \"count\": 1, \"min\": 0.9546458053588868, \"max\": 0.9546458053588868}}}\n",
      "\u001b[0m\n",
      "\u001b[34m#metrics {\"StartTime\": 1618999501.83602, \"EndTime\": 1618999501.8360305, \"Dimensions\": {\"Algorithm\": \"Linear Learner\", \"Host\": \"algo-1\", \"Operation\": \"training\", \"epoch\": 0, \"model\": 9}, \"Metrics\": {\"train_absolute_loss_objective\": {\"sum\": 0.8878077983856201, \"count\": 1, \"min\": 0.8878077983856201, \"max\": 0.8878077983856201}}}\n",
      "\u001b[0m\n",
      "\u001b[34m#metrics {\"StartTime\": 1618999501.836071, \"EndTime\": 1618999501.8360808, \"Dimensions\": {\"Algorithm\": \"Linear Learner\", \"Host\": \"algo-1\", \"Operation\": \"training\", \"epoch\": 0, \"model\": 10}, \"Metrics\": {\"train_absolute_loss_objective\": {\"sum\": 0.8943990135192871, \"count\": 1, \"min\": 0.8943990135192871, \"max\": 0.8943990135192871}}}\n",
      "\u001b[0m\n",
      "\u001b[34m#metrics {\"StartTime\": 1618999501.8361204, \"EndTime\": 1618999501.8361313, \"Dimensions\": {\"Algorithm\": \"Linear Learner\", \"Host\": \"algo-1\", \"Operation\": \"training\", \"epoch\": 0, \"model\": 11}, \"Metrics\": {\"train_absolute_loss_objective\": {\"sum\": 0.8798238849639892, \"count\": 1, \"min\": 0.8798238849639892, \"max\": 0.8798238849639892}}}\n",
      "\u001b[0m\n",
      "\u001b[34m#metrics {\"StartTime\": 1618999501.8361695, \"EndTime\": 1618999501.836181, \"Dimensions\": {\"Algorithm\": \"Linear Learner\", \"Host\": \"algo-1\", \"Operation\": \"training\", \"epoch\": 0, \"model\": 12}, \"Metrics\": {\"train_absolute_loss_objective\": {\"sum\": 0.9446767139434814, \"count\": 1, \"min\": 0.9446767139434814, \"max\": 0.9446767139434814}}}\n",
      "\u001b[0m\n",
      "\u001b[34m#metrics {\"StartTime\": 1618999501.8362207, \"EndTime\": 1618999501.8362312, \"Dimensions\": {\"Algorithm\": \"Linear Learner\", \"Host\": \"algo-1\", \"Operation\": \"training\", \"epoch\": 0, \"model\": 13}, \"Metrics\": {\"train_absolute_loss_objective\": {\"sum\": 0.9566773223876953, \"count\": 1, \"min\": 0.9566773223876953, \"max\": 0.9566773223876953}}}\n",
      "\u001b[0m\n",
      "\u001b[34m#metrics {\"StartTime\": 1618999501.836273, \"EndTime\": 1618999501.8362837, \"Dimensions\": {\"Algorithm\": \"Linear Learner\", \"Host\": \"algo-1\", \"Operation\": \"training\", \"epoch\": 0, \"model\": 14}, \"Metrics\": {\"train_absolute_loss_objective\": {\"sum\": 0.9439969253540039, \"count\": 1, \"min\": 0.9439969253540039, \"max\": 0.9439969253540039}}}\n",
      "\u001b[0m\n",
      "\u001b[34m#metrics {\"StartTime\": 1618999501.8363223, \"EndTime\": 1618999501.8363326, \"Dimensions\": {\"Algorithm\": \"Linear Learner\", \"Host\": \"algo-1\", \"Operation\": \"training\", \"epoch\": 0, \"model\": 15}, \"Metrics\": {\"train_absolute_loss_objective\": {\"sum\": 0.9595534610748291, \"count\": 1, \"min\": 0.9595534610748291, \"max\": 0.9595534610748291}}}\n",
      "\u001b[0m\n",
      "\u001b[34m#metrics {\"StartTime\": 1618999501.8363733, \"EndTime\": 1618999501.8363838, \"Dimensions\": {\"Algorithm\": \"Linear Learner\", \"Host\": \"algo-1\", \"Operation\": \"training\", \"epoch\": 0, \"model\": 16}, \"Metrics\": {\"train_absolute_loss_objective\": {\"sum\": 0.8640944385528564, \"count\": 1, \"min\": 0.8640944385528564, \"max\": 0.8640944385528564}}}\n",
      "\u001b[0m\n",
      "\u001b[34m#metrics {\"StartTime\": 1618999501.8364224, \"EndTime\": 1618999501.836433, \"Dimensions\": {\"Algorithm\": \"Linear Learner\", \"Host\": \"algo-1\", \"Operation\": \"training\", \"epoch\": 0, \"model\": 17}, \"Metrics\": {\"train_absolute_loss_objective\": {\"sum\": 0.9145549392700195, \"count\": 1, \"min\": 0.9145549392700195, \"max\": 0.9145549392700195}}}\n",
      "\u001b[0m\n",
      "\u001b[34m#metrics {\"StartTime\": 1618999501.836472, \"EndTime\": 1618999501.836483, \"Dimensions\": {\"Algorithm\": \"Linear Learner\", \"Host\": \"algo-1\", \"Operation\": \"training\", \"epoch\": 0, \"model\": 18}, \"Metrics\": {\"train_absolute_loss_objective\": {\"sum\": 0.8907409191131592, \"count\": 1, \"min\": 0.8907409191131592, \"max\": 0.8907409191131592}}}\n",
      "\u001b[0m\n",
      "\u001b[34m#metrics {\"StartTime\": 1618999501.836522, \"EndTime\": 1618999501.836532, \"Dimensions\": {\"Algorithm\": \"Linear Learner\", \"Host\": \"algo-1\", \"Operation\": \"training\", \"epoch\": 0, \"model\": 19}, \"Metrics\": {\"train_absolute_loss_objective\": {\"sum\": 0.8880808544158936, \"count\": 1, \"min\": 0.8880808544158936, \"max\": 0.8880808544158936}}}\n",
      "\u001b[0m\n",
      "\u001b[34m#metrics {\"StartTime\": 1618999501.8365684, \"EndTime\": 1618999501.8365784, \"Dimensions\": {\"Algorithm\": \"Linear Learner\", \"Host\": \"algo-1\", \"Operation\": \"training\", \"epoch\": 0, \"model\": 20}, \"Metrics\": {\"train_absolute_loss_objective\": {\"sum\": 0.9733769130706788, \"count\": 1, \"min\": 0.9733769130706788, \"max\": 0.9733769130706788}}}\n",
      "\u001b[0m\n",
      "\u001b[34m#metrics {\"StartTime\": 1618999501.8366168, \"EndTime\": 1618999501.8366265, \"Dimensions\": {\"Algorithm\": \"Linear Learner\", \"Host\": \"algo-1\", \"Operation\": \"training\", \"epoch\": 0, \"model\": 21}, \"Metrics\": {\"train_absolute_loss_objective\": {\"sum\": 0.980329008102417, \"count\": 1, \"min\": 0.980329008102417, \"max\": 0.980329008102417}}}\n",
      "\u001b[0m\n",
      "\u001b[34m#metrics {\"StartTime\": 1618999501.836665, \"EndTime\": 1618999501.8366766, \"Dimensions\": {\"Algorithm\": \"Linear Learner\", \"Host\": \"algo-1\", \"Operation\": \"training\", \"epoch\": 0, \"model\": 22}, \"Metrics\": {\"train_absolute_loss_objective\": {\"sum\": 0.95107497215271, \"count\": 1, \"min\": 0.95107497215271, \"max\": 0.95107497215271}}}\n",
      "\u001b[0m\n",
      "\u001b[34m#metrics {\"StartTime\": 1618999501.8367143, \"EndTime\": 1618999501.836725, \"Dimensions\": {\"Algorithm\": \"Linear Learner\", \"Host\": \"algo-1\", \"Operation\": \"training\", \"epoch\": 0, \"model\": 23}, \"Metrics\": {\"train_absolute_loss_objective\": {\"sum\": 0.9923720169067383, \"count\": 1, \"min\": 0.9923720169067383, \"max\": 0.9923720169067383}}}\n",
      "\u001b[0m\n",
      "\u001b[34m#metrics {\"StartTime\": 1618999501.8367636, \"EndTime\": 1618999501.8367739, \"Dimensions\": {\"Algorithm\": \"Linear Learner\", \"Host\": \"algo-1\", \"Operation\": \"training\", \"epoch\": 0, \"model\": 24}, \"Metrics\": {\"train_absolute_loss_objective\": {\"sum\": 0.8671319770812989, \"count\": 1, \"min\": 0.8671319770812989, \"max\": 0.8671319770812989}}}\n",
      "\u001b[0m\n",
      "\u001b[34m#metrics {\"StartTime\": 1618999501.8368144, \"EndTime\": 1618999501.836825, \"Dimensions\": {\"Algorithm\": \"Linear Learner\", \"Host\": \"algo-1\", \"Operation\": \"training\", \"epoch\": 0, \"model\": 25}, \"Metrics\": {\"train_absolute_loss_objective\": {\"sum\": 0.9325846862792969, \"count\": 1, \"min\": 0.9325846862792969, \"max\": 0.9325846862792969}}}\n",
      "\u001b[0m\n",
      "\u001b[34m#metrics {\"StartTime\": 1618999501.836864, \"EndTime\": 1618999501.836874, \"Dimensions\": {\"Algorithm\": \"Linear Learner\", \"Host\": \"algo-1\", \"Operation\": \"training\", \"epoch\": 0, \"model\": 26}, \"Metrics\": {\"train_absolute_loss_objective\": {\"sum\": 0.9194531440734863, \"count\": 1, \"min\": 0.9194531440734863, \"max\": 0.9194531440734863}}}\n",
      "\u001b[0m\n",
      "\u001b[34m#metrics {\"StartTime\": 1618999501.8369138, \"EndTime\": 1618999501.8369238, \"Dimensions\": {\"Algorithm\": \"Linear Learner\", \"Host\": \"algo-1\", \"Operation\": \"training\", \"epoch\": 0, \"model\": 27}, \"Metrics\": {\"train_absolute_loss_objective\": {\"sum\": 0.9086964416503907, \"count\": 1, \"min\": 0.9086964416503907, \"max\": 0.9086964416503907}}}\n",
      "\u001b[0m\n",
      "\u001b[34m#metrics {\"StartTime\": 1618999501.8369627, \"EndTime\": 1618999501.8369741, \"Dimensions\": {\"Algorithm\": \"Linear Learner\", \"Host\": \"algo-1\", \"Operation\": \"training\", \"epoch\": 0, \"model\": 28}, \"Metrics\": {\"train_absolute_loss_objective\": {\"sum\": 1.0092560863494873, \"count\": 1, \"min\": 1.0092560863494873, \"max\": 1.0092560863494873}}}\n",
      "\u001b[0m\n",
      "\u001b[34m#metrics {\"StartTime\": 1618999501.8370132, \"EndTime\": 1618999501.8370242, \"Dimensions\": {\"Algorithm\": \"Linear Learner\", \"Host\": \"algo-1\", \"Operation\": \"training\", \"epoch\": 0, \"model\": 29}, \"Metrics\": {\"train_absolute_loss_objective\": {\"sum\": 1.0092286777496338, \"count\": 1, \"min\": 1.0092286777496338, \"max\": 1.0092286777496338}}}\n",
      "\u001b[0m\n",
      "\u001b[34m#metrics {\"StartTime\": 1618999501.837063, \"EndTime\": 1618999501.8370733, \"Dimensions\": {\"Algorithm\": \"Linear Learner\", \"Host\": \"algo-1\", \"Operation\": \"training\", \"epoch\": 0, \"model\": 30}, \"Metrics\": {\"train_absolute_loss_objective\": {\"sum\": 1.031340208053589, \"count\": 1, \"min\": 1.031340208053589, \"max\": 1.031340208053589}}}\n",
      "\u001b[0m\n",
      "\u001b[34m#metrics {\"StartTime\": 1618999501.8371143, \"EndTime\": 1618999501.8371248, \"Dimensions\": {\"Algorithm\": \"Linear Learner\", \"Host\": \"algo-1\", \"Operation\": \"training\", \"epoch\": 0, \"model\": 31}, \"Metrics\": {\"train_absolute_loss_objective\": {\"sum\": 1.0097191905975342, \"count\": 1, \"min\": 1.0097191905975342, \"max\": 1.0097191905975342}}}\n",
      "\u001b[0m\n",
      "\u001b[34m[04/21/2021 10:05:01 INFO 140109431228224] #quality_metric: host=algo-1, epoch=0, train absolute_loss_objective <loss>=0.8996445083618164\u001b[0m\n",
      "\u001b[34m[04/21/2021 10:05:01 INFO 140109431228224] #early_stopping_criteria_metric: host=algo-1, epoch=0, criteria=absolute_loss_objective, value=0.8640944385528564\u001b[0m\n",
      "\u001b[34m[04/21/2021 10:05:01 INFO 140109431228224] Epoch 0: Loss improved. Updating best model\u001b[0m\n",
      "\u001b[34m[04/21/2021 10:05:01 INFO 140109431228224] Saving model for epoch: 0\u001b[0m\n",
      "\u001b[34m[04/21/2021 10:05:01 INFO 140109431228224] Saved checkpoint to \"/tmp/tmp_wuq2h0f/mx-mod-0000.params\"\u001b[0m\n",
      "\u001b[34m[04/21/2021 10:05:01 INFO 140109431228224] #progress_metric: host=algo-1, completed 20.0 % of epochs\u001b[0m\n",
      "\u001b[34m#metrics {\"StartTime\": 1618999501.6882405, \"EndTime\": 1618999501.8564758, \"Dimensions\": {\"Algorithm\": \"Linear Learner\", \"Host\": \"algo-1\", \"Operation\": \"training\", \"epoch\": 0, \"Meta\": \"training_data_iter\"}, \"Metrics\": {\"Total Records Seen\": {\"sum\": 61.0, \"count\": 1, \"min\": 61, \"max\": 61}, \"Total Batches Seen\": {\"sum\": 13.0, \"count\": 1, \"min\": 13, \"max\": 13}, \"Max Records Seen Between Resets\": {\"sum\": 28.0, \"count\": 1, \"min\": 28, \"max\": 28}, \"Max Batches Seen Between Resets\": {\"sum\": 6.0, \"count\": 1, \"min\": 6, \"max\": 6}, \"Reset Count\": {\"sum\": 3.0, \"count\": 1, \"min\": 3, \"max\": 3}, \"Number of Records Since Last Reset\": {\"sum\": 28.0, \"count\": 1, \"min\": 28, \"max\": 28}, \"Number of Batches Since Last Reset\": {\"sum\": 6.0, \"count\": 1, \"min\": 6, \"max\": 6}}}\n",
      "\u001b[0m\n",
      "\u001b[34m[04/21/2021 10:05:01 INFO 140109431228224] #throughput_metric: host=algo-1, train throughput=166.3088794449975 records/second\u001b[0m\n",
      "\u001b[34m[2021-04-21 10:05:01.962] [tensorio] [info] epoch_stats={\"data_pipeline\": \"/opt/ml/input/data/train\", \"epoch\": 6, \"duration\": 105, \"num_examples\": 6, \"num_bytes\": 1344}\u001b[0m\n",
      "\u001b[34m#metrics {\"StartTime\": 1618999501.9623506, \"EndTime\": 1618999501.9624267, \"Dimensions\": {\"Algorithm\": \"Linear Learner\", \"Host\": \"algo-1\", \"Operation\": \"training\", \"epoch\": 1, \"model\": 0}, \"Metrics\": {\"train_absolute_loss_objective\": {\"sum\": 0.8581177997589111, \"count\": 1, \"min\": 0.8581177997589111, \"max\": 0.8581177997589111}}}\n",
      "\u001b[0m\n",
      "\u001b[34m#metrics {\"StartTime\": 1618999501.9626937, \"EndTime\": 1618999501.9627311, \"Dimensions\": {\"Algorithm\": \"Linear Learner\", \"Host\": \"algo-1\", \"Operation\": \"training\", \"epoch\": 1, \"model\": 1}, \"Metrics\": {\"train_absolute_loss_objective\": {\"sum\": 0.8777069091796875, \"count\": 1, \"min\": 0.8777069091796875, \"max\": 0.8777069091796875}}}\n",
      "\u001b[0m\n",
      "\u001b[34m#metrics {\"StartTime\": 1618999501.9629571, \"EndTime\": 1618999501.9629757, \"Dimensions\": {\"Algorithm\": \"Linear Learner\", \"Host\": \"algo-1\", \"Operation\": \"training\", \"epoch\": 1, \"model\": 2}, \"Metrics\": {\"train_absolute_loss_objective\": {\"sum\": 0.8604907703399658, \"count\": 1, \"min\": 0.8604907703399658, \"max\": 0.8604907703399658}}}\n",
      "\u001b[0m\n",
      "\u001b[34m#metrics {\"StartTime\": 1618999501.9631832, \"EndTime\": 1618999501.9632, \"Dimensions\": {\"Algorithm\": \"Linear Learner\", \"Host\": \"algo-1\", \"Operation\": \"training\", \"epoch\": 1, \"model\": 3}, \"Metrics\": {\"train_absolute_loss_objective\": {\"sum\": 0.8767058086395264, \"count\": 1, \"min\": 0.8767058086395264, \"max\": 0.8767058086395264}}}\n",
      "\u001b[0m\n",
      "\u001b[34m#metrics {\"StartTime\": 1618999501.9634128, \"EndTime\": 1618999501.9634304, \"Dimensions\": {\"Algorithm\": \"Linear Learner\", \"Host\": \"algo-1\", \"Operation\": \"training\", \"epoch\": 1, \"model\": 4}, \"Metrics\": {\"train_absolute_loss_objective\": {\"sum\": 0.6965667581558228, \"count\": 1, \"min\": 0.6965667581558228, \"max\": 0.6965667581558228}}}\n",
      "\u001b[0m\n",
      "\u001b[34m#metrics {\"StartTime\": 1618999501.9636338, \"EndTime\": 1618999501.9636507, \"Dimensions\": {\"Algorithm\": \"Linear Learner\", \"Host\": \"algo-1\", \"Operation\": \"training\", \"epoch\": 1, \"model\": 5}, \"Metrics\": {\"train_absolute_loss_objective\": {\"sum\": 0.7002579689025878, \"count\": 1, \"min\": 0.7002579689025878, \"max\": 0.7002579689025878}}}\n",
      "\u001b[0m\n",
      "\u001b[34m#metrics {\"StartTime\": 1618999501.963845, \"EndTime\": 1618999501.963862, \"Dimensions\": {\"Algorithm\": \"Linear Learner\", \"Host\": \"algo-1\", \"Operation\": \"training\", \"epoch\": 1, \"model\": 6}, \"Metrics\": {\"train_absolute_loss_objective\": {\"sum\": 0.6596255159378052, \"count\": 1, \"min\": 0.6596255159378052, \"max\": 0.6596255159378052}}}\n",
      "\u001b[0m\n",
      "\u001b[34m#metrics {\"StartTime\": 1618999501.9640546, \"EndTime\": 1618999501.9640713, \"Dimensions\": {\"Algorithm\": \"Linear Learner\", \"Host\": \"algo-1\", \"Operation\": \"training\", \"epoch\": 1, \"model\": 7}, \"Metrics\": {\"train_absolute_loss_objective\": {\"sum\": 0.6215651178359985, \"count\": 1, \"min\": 0.6215651178359985, \"max\": 0.6215651178359985}}}\n",
      "\u001b[0m\n",
      "\u001b[34m#metrics {\"StartTime\": 1618999501.9642644, \"EndTime\": 1618999501.9642806, \"Dimensions\": {\"Algorithm\": \"Linear Learner\", \"Host\": \"algo-1\", \"Operation\": \"training\", \"epoch\": 1, \"model\": 8}, \"Metrics\": {\"train_absolute_loss_objective\": {\"sum\": 0.913119125366211, \"count\": 1, \"min\": 0.913119125366211, \"max\": 0.913119125366211}}}\n",
      "\u001b[0m\n",
      "\u001b[34m#metrics {\"StartTime\": 1618999501.9644759, \"EndTime\": 1618999501.964493, \"Dimensions\": {\"Algorithm\": \"Linear Learner\", \"Host\": \"algo-1\", \"Operation\": \"training\", \"epoch\": 1, \"model\": 9}, \"Metrics\": {\"train_absolute_loss_objective\": {\"sum\": 0.846281509399414, \"count\": 1, \"min\": 0.846281509399414, \"max\": 0.846281509399414}}}\n",
      "\u001b[0m\n",
      "\u001b[34m#metrics {\"StartTime\": 1618999501.9646847, \"EndTime\": 1618999501.9647014, \"Dimensions\": {\"Algorithm\": \"Linear Learner\", \"Host\": \"algo-1\", \"Operation\": \"training\", \"epoch\": 1, \"model\": 10}, \"Metrics\": {\"train_absolute_loss_objective\": {\"sum\": 0.8528727054595947, \"count\": 1, \"min\": 0.8528727054595947, \"max\": 0.8528727054595947}}}\n",
      "\u001b[0m\n",
      "\u001b[34m#metrics {\"StartTime\": 1618999501.964895, \"EndTime\": 1618999501.9649117, \"Dimensions\": {\"Algorithm\": \"Linear Learner\", \"Host\": \"algo-1\", \"Operation\": \"training\", \"epoch\": 1, \"model\": 11}, \"Metrics\": {\"train_absolute_loss_objective\": {\"sum\": 0.8382976531982422, \"count\": 1, \"min\": 0.8382976531982422, \"max\": 0.8382976531982422}}}\n",
      "\u001b[0m\n",
      "\u001b[34m#metrics {\"StartTime\": 1618999501.965103, \"EndTime\": 1618999501.9651196, \"Dimensions\": {\"Algorithm\": \"Linear Learner\", \"Host\": \"algo-1\", \"Operation\": \"training\", \"epoch\": 1, \"model\": 12}, \"Metrics\": {\"train_absolute_loss_objective\": {\"sum\": 0.7002336978912354, \"count\": 1, \"min\": 0.7002336978912354, \"max\": 0.7002336978912354}}}\n",
      "\u001b[0m\n",
      "\u001b[34m#metrics {\"StartTime\": 1618999501.9653192, \"EndTime\": 1618999501.965336, \"Dimensions\": {\"Algorithm\": \"Linear Learner\", \"Host\": \"algo-1\", \"Operation\": \"training\", \"epoch\": 1, \"model\": 13}, \"Metrics\": {\"train_absolute_loss_objective\": {\"sum\": 0.7101471424102783, \"count\": 1, \"min\": 0.7101471424102783, \"max\": 0.7101471424102783}}}\n",
      "\u001b[0m\n",
      "\u001b[34m#metrics {\"StartTime\": 1618999501.9655497, \"EndTime\": 1618999501.965566, \"Dimensions\": {\"Algorithm\": \"Linear Learner\", \"Host\": \"algo-1\", \"Operation\": \"training\", \"epoch\": 1, \"model\": 14}, \"Metrics\": {\"train_absolute_loss_objective\": {\"sum\": 0.6996721315383911, \"count\": 1, \"min\": 0.6996721315383911, \"max\": 0.6996721315383911}}}\n",
      "\u001b[0m\n",
      "\u001b[34m#metrics {\"StartTime\": 1618999501.9657497, \"EndTime\": 1618999501.9657662, \"Dimensions\": {\"Algorithm\": \"Linear Learner\", \"Host\": \"algo-1\", \"Operation\": \"training\", \"epoch\": 1, \"model\": 15}, \"Metrics\": {\"train_absolute_loss_objective\": {\"sum\": 0.712523078918457, \"count\": 1, \"min\": 0.712523078918457, \"max\": 0.712523078918457}}}\n",
      "\u001b[0m\n",
      "\u001b[34m#metrics {\"StartTime\": 1618999501.96596, \"EndTime\": 1618999501.9659765, \"Dimensions\": {\"Algorithm\": \"Linear Learner\", \"Host\": \"algo-1\", \"Operation\": \"training\", \"epoch\": 1, \"model\": 16}, \"Metrics\": {\"train_absolute_loss_objective\": {\"sum\": 0.8226343154907226, \"count\": 1, \"min\": 0.8226343154907226, \"max\": 0.8226343154907226}}}\n",
      "\u001b[0m\n",
      "\u001b[34m#metrics {\"StartTime\": 1618999501.96617, \"EndTime\": 1618999501.9661865, \"Dimensions\": {\"Algorithm\": \"Linear Learner\", \"Host\": \"algo-1\", \"Operation\": \"training\", \"epoch\": 1, \"model\": 17}, \"Metrics\": {\"train_absolute_loss_objective\": {\"sum\": 0.8730564212799072, \"count\": 1, \"min\": 0.8730564212799072, \"max\": 0.8730564212799072}}}\n",
      "\u001b[0m\n",
      "\u001b[34m#metrics {\"StartTime\": 1618999501.9663801, \"EndTime\": 1618999501.9663966, \"Dimensions\": {\"Algorithm\": \"Linear Learner\", \"Host\": \"algo-1\", \"Operation\": \"training\", \"epoch\": 1, \"model\": 18}, \"Metrics\": {\"train_absolute_loss_objective\": {\"sum\": 0.8492595100402832, \"count\": 1, \"min\": 0.8492595100402832, \"max\": 0.8492595100402832}}}\n",
      "\u001b[0m\n",
      "\u001b[34m#metrics {\"StartTime\": 1618999501.966588, \"EndTime\": 1618999501.9666054, \"Dimensions\": {\"Algorithm\": \"Linear Learner\", \"Host\": \"algo-1\", \"Operation\": \"training\", \"epoch\": 1, \"model\": 19}, \"Metrics\": {\"train_absolute_loss_objective\": {\"sum\": 0.846601448059082, \"count\": 1, \"min\": 0.846601448059082, \"max\": 0.846601448059082}}}\n",
      "\u001b[0m\n",
      "\u001b[34m#metrics {\"StartTime\": 1618999501.9668179, \"EndTime\": 1618999501.9668348, \"Dimensions\": {\"Algorithm\": \"Linear Learner\", \"Host\": \"algo-1\", \"Operation\": \"training\", \"epoch\": 1, \"model\": 20}, \"Metrics\": {\"train_absolute_loss_objective\": {\"sum\": 0.6917403554916381, \"count\": 1, \"min\": 0.6917403554916381, \"max\": 0.6917403554916381}}}\n",
      "\u001b[0m\n",
      "\u001b[34m#metrics {\"StartTime\": 1618999501.9670138, \"EndTime\": 1618999501.9670293, \"Dimensions\": {\"Algorithm\": \"Linear Learner\", \"Host\": \"algo-1\", \"Operation\": \"training\", \"epoch\": 1, \"model\": 21}, \"Metrics\": {\"train_absolute_loss_objective\": {\"sum\": 0.7145478916168213, \"count\": 1, \"min\": 0.7145478916168213, \"max\": 0.7145478916168213}}}\n",
      "\u001b[0m\n",
      "\u001b[34m#metrics {\"StartTime\": 1618999501.9672205, \"EndTime\": 1618999501.9672365, \"Dimensions\": {\"Algorithm\": \"Linear Learner\", \"Host\": \"algo-1\", \"Operation\": \"training\", \"epoch\": 1, \"model\": 22}, \"Metrics\": {\"train_absolute_loss_objective\": {\"sum\": 0.6760013151168823, \"count\": 1, \"min\": 0.6760013151168823, \"max\": 0.6760013151168823}}}\n",
      "\u001b[0m\n",
      "\u001b[34m#metrics {\"StartTime\": 1618999501.9674265, \"EndTime\": 1618999501.9674423, \"Dimensions\": {\"Algorithm\": \"Linear Learner\", \"Host\": \"algo-1\", \"Operation\": \"training\", \"epoch\": 1, \"model\": 23}, \"Metrics\": {\"train_absolute_loss_objective\": {\"sum\": 0.7241742515563965, \"count\": 1, \"min\": 0.7241742515563965, \"max\": 0.7241742515563965}}}\n",
      "\u001b[0m\n",
      "\u001b[34m#metrics {\"StartTime\": 1618999501.9676375, \"EndTime\": 1618999501.967654, \"Dimensions\": {\"Algorithm\": \"Linear Learner\", \"Host\": \"algo-1\", \"Operation\": \"training\", \"epoch\": 1, \"model\": 24}, \"Metrics\": {\"train_absolute_loss_objective\": {\"sum\": 0.867025556564331, \"count\": 1, \"min\": 0.867025556564331, \"max\": 0.867025556564331}}}\n",
      "\u001b[0m\n",
      "\u001b[34m#metrics {\"StartTime\": 1618999501.9678485, \"EndTime\": 1618999501.9678645, \"Dimensions\": {\"Algorithm\": \"Linear Learner\", \"Host\": \"algo-1\", \"Operation\": \"training\", \"epoch\": 1, \"model\": 25}, \"Metrics\": {\"train_absolute_loss_objective\": {\"sum\": 0.8924465179443359, \"count\": 1, \"min\": 0.8924465179443359, \"max\": 0.8924465179443359}}}\n",
      "\u001b[0m\n",
      "\u001b[34m#metrics {\"StartTime\": 1618999501.968056, \"EndTime\": 1618999501.968072, \"Dimensions\": {\"Algorithm\": \"Linear Learner\", \"Host\": \"algo-1\", \"Operation\": \"training\", \"epoch\": 1, \"model\": 26}, \"Metrics\": {\"train_absolute_loss_objective\": {\"sum\": 0.8820472526550293, \"count\": 1, \"min\": 0.8820472526550293, \"max\": 0.8820472526550293}}}\n",
      "\u001b[0m\n",
      "\u001b[34m#metrics {\"StartTime\": 1618999501.9682603, \"EndTime\": 1618999501.9682755, \"Dimensions\": {\"Algorithm\": \"Linear Learner\", \"Host\": \"algo-1\", \"Operation\": \"training\", \"epoch\": 1, \"model\": 27}, \"Metrics\": {\"train_absolute_loss_objective\": {\"sum\": 0.8820712089538574, \"count\": 1, \"min\": 0.8820712089538574, \"max\": 0.8820712089538574}}}\n",
      "\u001b[0m\n",
      "\u001b[34m#metrics {\"StartTime\": 1618999501.9684646, \"EndTime\": 1618999501.9684803, \"Dimensions\": {\"Algorithm\": \"Linear Learner\", \"Host\": \"algo-1\", \"Operation\": \"training\", \"epoch\": 1, \"model\": 28}, \"Metrics\": {\"train_absolute_loss_objective\": {\"sum\": 1.0161697006225585, \"count\": 1, \"min\": 1.0161697006225585, \"max\": 1.0161697006225585}}}\n",
      "\u001b[0m\n",
      "\u001b[34m#metrics {\"StartTime\": 1618999501.9686973, \"EndTime\": 1618999501.9687145, \"Dimensions\": {\"Algorithm\": \"Linear Learner\", \"Host\": \"algo-1\", \"Operation\": \"training\", \"epoch\": 1, \"model\": 29}, \"Metrics\": {\"train_absolute_loss_objective\": {\"sum\": 1.0151029586791993, \"count\": 1, \"min\": 1.0151029586791993, \"max\": 1.0151029586791993}}}\n",
      "\u001b[0m\n",
      "\u001b[34m#metrics {\"StartTime\": 1618999501.9689038, \"EndTime\": 1618999501.9689195, \"Dimensions\": {\"Algorithm\": \"Linear Learner\", \"Host\": \"algo-1\", \"Operation\": \"training\", \"epoch\": 1, \"model\": 30}, \"Metrics\": {\"train_absolute_loss_objective\": {\"sum\": 1.0197067642211914, \"count\": 1, \"min\": 1.0197067642211914, \"max\": 1.0197067642211914}}}\n",
      "\u001b[0m\n",
      "\u001b[34m#metrics {\"StartTime\": 1618999501.9691079, \"EndTime\": 1618999501.9691234, \"Dimensions\": {\"Algorithm\": \"Linear Learner\", \"Host\": \"algo-1\", \"Operation\": \"training\", \"epoch\": 1, \"model\": 31}, \"Metrics\": {\"train_absolute_loss_objective\": {\"sum\": 1.0115992546081543, \"count\": 1, \"min\": 1.0115992546081543, \"max\": 1.0115992546081543}}}\n",
      "\u001b[0m\n",
      "\u001b[34m[04/21/2021 10:05:01 INFO 140109431228224] #quality_metric: host=algo-1, epoch=1, train absolute_loss_objective <loss>=0.8581177997589111\u001b[0m\n",
      "\u001b[34m[04/21/2021 10:05:01 INFO 140109431228224] #early_stopping_criteria_metric: host=algo-1, epoch=1, criteria=absolute_loss_objective, value=0.6215651178359985\u001b[0m\n",
      "\u001b[34m[04/21/2021 10:05:01 INFO 140109431228224] Epoch 1: Loss improved. Updating best model\u001b[0m\n",
      "\u001b[34m[04/21/2021 10:05:01 INFO 140109431228224] Saving model for epoch: 1\u001b[0m\n",
      "\u001b[34m[04/21/2021 10:05:01 INFO 140109431228224] Saved checkpoint to \"/tmp/tmpv67dty6w/mx-mod-0000.params\"\u001b[0m\n",
      "\u001b[34m[04/21/2021 10:05:01 INFO 140109431228224] #progress_metric: host=algo-1, completed 40.0 % of epochs\u001b[0m\n",
      "\u001b[34m#metrics {\"StartTime\": 1618999501.8567586, \"EndTime\": 1618999501.9805765, \"Dimensions\": {\"Algorithm\": \"Linear Learner\", \"Host\": \"algo-1\", \"Operation\": \"training\", \"epoch\": 1, \"Meta\": \"training_data_iter\"}, \"Metrics\": {\"Total Records Seen\": {\"sum\": 89.0, \"count\": 1, \"min\": 89, \"max\": 89}, \"Total Batches Seen\": {\"sum\": 19.0, \"count\": 1, \"min\": 19, \"max\": 19}, \"Max Records Seen Between Resets\": {\"sum\": 28.0, \"count\": 1, \"min\": 28, \"max\": 28}, \"Max Batches Seen Between Resets\": {\"sum\": 6.0, \"count\": 1, \"min\": 6, \"max\": 6}, \"Reset Count\": {\"sum\": 4.0, \"count\": 1, \"min\": 4, \"max\": 4}, \"Number of Records Since Last Reset\": {\"sum\": 28.0, \"count\": 1, \"min\": 28, \"max\": 28}, \"Number of Batches Since Last Reset\": {\"sum\": 6.0, \"count\": 1, \"min\": 6, \"max\": 6}}}\n",
      "\u001b[0m\n",
      "\u001b[34m[04/21/2021 10:05:01 INFO 140109431228224] #throughput_metric: host=algo-1, train throughput=225.61848280684768 records/second\u001b[0m\n",
      "\u001b[34m[2021-04-21 10:05:02.063] [tensorio] [info] epoch_stats={\"data_pipeline\": \"/opt/ml/input/data/train\", \"epoch\": 8, \"duration\": 81, \"num_examples\": 6, \"num_bytes\": 1344}\u001b[0m\n",
      "\u001b[34m#metrics {\"StartTime\": 1618999502.06345, \"EndTime\": 1618999502.0635185, \"Dimensions\": {\"Algorithm\": \"Linear Learner\", \"Host\": \"algo-1\", \"Operation\": \"training\", \"epoch\": 2, \"model\": 0}, \"Metrics\": {\"train_absolute_loss_objective\": {\"sum\": 0.8329875183105468, \"count\": 1, \"min\": 0.8329875183105468, \"max\": 0.8329875183105468}}}\n",
      "\u001b[0m\n",
      "\u001b[34m#metrics {\"StartTime\": 1618999502.0637243, \"EndTime\": 1618999502.0637393, \"Dimensions\": {\"Algorithm\": \"Linear Learner\", \"Host\": \"algo-1\", \"Operation\": \"training\", \"epoch\": 2, \"model\": 1}, \"Metrics\": {\"train_absolute_loss_objective\": {\"sum\": 0.8525472736358642, \"count\": 1, \"min\": 0.8525472736358642, \"max\": 0.8525472736358642}}}\n",
      "\u001b[0m\n",
      "\u001b[34m#metrics {\"StartTime\": 1618999502.0638945, \"EndTime\": 1618999502.063906, \"Dimensions\": {\"Algorithm\": \"Linear Learner\", \"Host\": \"algo-1\", \"Operation\": \"training\", \"epoch\": 2, \"model\": 2}, \"Metrics\": {\"train_absolute_loss_objective\": {\"sum\": 0.8353604888916015, \"count\": 1, \"min\": 0.8353604888916015, \"max\": 0.8353604888916015}}}\n",
      "\u001b[0m\n",
      "\u001b[34m#metrics {\"StartTime\": 1618999502.0640407, \"EndTime\": 1618999502.0640514, \"Dimensions\": {\"Algorithm\": \"Linear Learner\", \"Host\": \"algo-1\", \"Operation\": \"training\", \"epoch\": 2, \"model\": 3}, \"Metrics\": {\"train_absolute_loss_objective\": {\"sum\": 0.8515462112426758, \"count\": 1, \"min\": 0.8515462112426758, \"max\": 0.8515462112426758}}}\n",
      "\u001b[0m\n",
      "\u001b[34m#metrics {\"StartTime\": 1618999502.0641868, \"EndTime\": 1618999502.0641973, \"Dimensions\": {\"Algorithm\": \"Linear Learner\", \"Host\": \"algo-1\", \"Operation\": \"training\", \"epoch\": 2, \"model\": 4}, \"Metrics\": {\"train_absolute_loss_objective\": {\"sum\": 0.5009052467346191, \"count\": 1, \"min\": 0.5009052467346191, \"max\": 0.5009052467346191}}}\n",
      "\u001b[0m\n",
      "\u001b[34m#metrics {\"StartTime\": 1618999502.064328, \"EndTime\": 1618999502.0643382, \"Dimensions\": {\"Algorithm\": \"Linear Learner\", \"Host\": \"algo-1\", \"Operation\": \"training\", \"epoch\": 2, \"model\": 5}, \"Metrics\": {\"train_absolute_loss_objective\": {\"sum\": 0.5085180234909058, \"count\": 1, \"min\": 0.5085180234909058, \"max\": 0.5085180234909058}}}\n",
      "\u001b[0m\n",
      "\u001b[34m#metrics {\"StartTime\": 1618999502.0644677, \"EndTime\": 1618999502.0644777, \"Dimensions\": {\"Algorithm\": \"Linear Learner\", \"Host\": \"algo-1\", \"Operation\": \"training\", \"epoch\": 2, \"model\": 6}, \"Metrics\": {\"train_absolute_loss_objective\": {\"sum\": 0.3819054889678955, \"count\": 1, \"min\": 0.3819054889678955, \"max\": 0.3819054889678955}}}\n",
      "\u001b[0m\n",
      "\u001b[34m#metrics {\"StartTime\": 1618999502.0646079, \"EndTime\": 1618999502.0646176, \"Dimensions\": {\"Algorithm\": \"Linear Learner\", \"Host\": \"algo-1\", \"Operation\": \"training\", \"epoch\": 2, \"model\": 7}, \"Metrics\": {\"train_absolute_loss_objective\": {\"sum\": 0.29088069677352907, \"count\": 1, \"min\": 0.29088069677352907, \"max\": 0.29088069677352907}}}\n",
      "\u001b[0m\n",
      "\u001b[34m#metrics {\"StartTime\": 1618999502.0647452, \"EndTime\": 1618999502.0647552, \"Dimensions\": {\"Algorithm\": \"Linear Learner\", \"Host\": \"algo-1\", \"Operation\": \"training\", \"epoch\": 2, \"model\": 8}, \"Metrics\": {\"train_absolute_loss_objective\": {\"sum\": 0.8879896545410156, \"count\": 1, \"min\": 0.8879896545410156, \"max\": 0.8879896545410156}}}\n",
      "\u001b[0m\n",
      "\u001b[34m#metrics {\"StartTime\": 1618999502.064883, \"EndTime\": 1618999502.064893, \"Dimensions\": {\"Algorithm\": \"Linear Learner\", \"Host\": \"algo-1\", \"Operation\": \"training\", \"epoch\": 2, \"model\": 9}, \"Metrics\": {\"train_absolute_loss_objective\": {\"sum\": 0.8211232566833496, \"count\": 1, \"min\": 0.8211232566833496, \"max\": 0.8211232566833496}}}\n",
      "\u001b[0m\n",
      "\u001b[34m#metrics {\"StartTime\": 1618999502.0650198, \"EndTime\": 1618999502.06503, \"Dimensions\": {\"Algorithm\": \"Linear Learner\", \"Host\": \"algo-1\", \"Operation\": \"training\", \"epoch\": 2, \"model\": 10}, \"Metrics\": {\"train_absolute_loss_objective\": {\"sum\": 0.8277437114715576, \"count\": 1, \"min\": 0.8277437114715576, \"max\": 0.8277437114715576}}}\n",
      "\u001b[0m\n",
      "\u001b[34m#metrics {\"StartTime\": 1618999502.06516, \"EndTime\": 1618999502.0651703, \"Dimensions\": {\"Algorithm\": \"Linear Learner\", \"Host\": \"algo-1\", \"Operation\": \"training\", \"epoch\": 2, \"model\": 11}, \"Metrics\": {\"train_absolute_loss_objective\": {\"sum\": 0.8131394767761231, \"count\": 1, \"min\": 0.8131394767761231, \"max\": 0.8131394767761231}}}\n",
      "\u001b[0m\n",
      "\u001b[34m#metrics {\"StartTime\": 1618999502.0652995, \"EndTime\": 1618999502.0653095, \"Dimensions\": {\"Algorithm\": \"Linear Learner\", \"Host\": \"algo-1\", \"Operation\": \"training\", \"epoch\": 2, \"model\": 12}, \"Metrics\": {\"train_absolute_loss_objective\": {\"sum\": 0.5048569393157959, \"count\": 1, \"min\": 0.5048569393157959, \"max\": 0.5048569393157959}}}\n",
      "\u001b[0m\n",
      "\u001b[34m#metrics {\"StartTime\": 1618999502.0654526, \"EndTime\": 1618999502.0654635, \"Dimensions\": {\"Algorithm\": \"Linear Learner\", \"Host\": \"algo-1\", \"Operation\": \"training\", \"epoch\": 2, \"model\": 13}, \"Metrics\": {\"train_absolute_loss_objective\": {\"sum\": 0.517747278213501, \"count\": 1, \"min\": 0.517747278213501, \"max\": 0.517747278213501}}}\n",
      "\u001b[0m\n",
      "\u001b[34m#metrics {\"StartTime\": 1618999502.065596, \"EndTime\": 1618999502.0656066, \"Dimensions\": {\"Algorithm\": \"Linear Learner\", \"Host\": \"algo-1\", \"Operation\": \"training\", \"epoch\": 2, \"model\": 14}, \"Metrics\": {\"train_absolute_loss_objective\": {\"sum\": 0.5043791103363037, \"count\": 1, \"min\": 0.5043791103363037, \"max\": 0.5043791103363037}}}\n",
      "\u001b[0m\n",
      "\u001b[34m#metrics {\"StartTime\": 1618999502.0657358, \"EndTime\": 1618999502.065746, \"Dimensions\": {\"Algorithm\": \"Linear Learner\", \"Host\": \"algo-1\", \"Operation\": \"training\", \"epoch\": 2, \"model\": 15}, \"Metrics\": {\"train_absolute_loss_objective\": {\"sum\": 0.5197690200805664, \"count\": 1, \"min\": 0.5197690200805664, \"max\": 0.5197690200805664}}}\n",
      "\u001b[0m\n",
      "\u001b[34m#metrics {\"StartTime\": 1618999502.065879, \"EndTime\": 1618999502.0658896, \"Dimensions\": {\"Algorithm\": \"Linear Learner\", \"Host\": \"algo-1\", \"Operation\": \"training\", \"epoch\": 2, \"model\": 16}, \"Metrics\": {\"train_absolute_loss_objective\": {\"sum\": 0.7976752090454101, \"count\": 1, \"min\": 0.7976752090454101, \"max\": 0.7976752090454101}}}\n",
      "\u001b[0m\n",
      "\u001b[34m#metrics {\"StartTime\": 1618999502.0660207, \"EndTime\": 1618999502.0660307, \"Dimensions\": {\"Algorithm\": \"Linear Learner\", \"Host\": \"algo-1\", \"Operation\": \"training\", \"epoch\": 2, \"model\": 17}, \"Metrics\": {\"train_absolute_loss_objective\": {\"sum\": 0.8480152320861817, \"count\": 1, \"min\": 0.8480152320861817, \"max\": 0.8480152320861817}}}\n",
      "\u001b[0m\n",
      "\u001b[34m#metrics {\"StartTime\": 1618999502.0661607, \"EndTime\": 1618999502.066171, \"Dimensions\": {\"Algorithm\": \"Linear Learner\", \"Host\": \"algo-1\", \"Operation\": \"training\", \"epoch\": 2, \"model\": 18}, \"Metrics\": {\"train_absolute_loss_objective\": {\"sum\": 0.8242708396911621, \"count\": 1, \"min\": 0.8242708396911621, \"max\": 0.8242708396911621}}}\n",
      "\u001b[0m\n",
      "\u001b[34m#metrics {\"StartTime\": 1618999502.0663266, \"EndTime\": 1618999502.0663376, \"Dimensions\": {\"Algorithm\": \"Linear Learner\", \"Host\": \"algo-1\", \"Operation\": \"training\", \"epoch\": 2, \"model\": 19}, \"Metrics\": {\"train_absolute_loss_objective\": {\"sum\": 0.8215870952606201, \"count\": 1, \"min\": 0.8215870952606201, \"max\": 0.8215870952606201}}}\n",
      "\u001b[0m\n",
      "\u001b[34m#metrics {\"StartTime\": 1618999502.066471, \"EndTime\": 1618999502.0664814, \"Dimensions\": {\"Algorithm\": \"Linear Learner\", \"Host\": \"algo-1\", \"Operation\": \"training\", \"epoch\": 2, \"model\": 20}, \"Metrics\": {\"train_absolute_loss_objective\": {\"sum\": 0.5479730653762818, \"count\": 1, \"min\": 0.5479730653762818, \"max\": 0.5479730653762818}}}\n",
      "\u001b[0m\n",
      "\u001b[34m#metrics {\"StartTime\": 1618999502.0666099, \"EndTime\": 1618999502.0666196, \"Dimensions\": {\"Algorithm\": \"Linear Learner\", \"Host\": \"algo-1\", \"Operation\": \"training\", \"epoch\": 2, \"model\": 21}, \"Metrics\": {\"train_absolute_loss_objective\": {\"sum\": 0.642663278579712, \"count\": 1, \"min\": 0.642663278579712, \"max\": 0.642663278579712}}}\n",
      "\u001b[0m\n",
      "\u001b[34m#metrics {\"StartTime\": 1618999502.0667696, \"EndTime\": 1618999502.0667803, \"Dimensions\": {\"Algorithm\": \"Linear Learner\", \"Host\": \"algo-1\", \"Operation\": \"training\", \"epoch\": 2, \"model\": 22}, \"Metrics\": {\"train_absolute_loss_objective\": {\"sum\": 0.547841477394104, \"count\": 1, \"min\": 0.547841477394104, \"max\": 0.547841477394104}}}\n",
      "\u001b[0m\n",
      "\u001b[34m#metrics {\"StartTime\": 1618999502.0671637, \"EndTime\": 1618999502.0671806, \"Dimensions\": {\"Algorithm\": \"Linear Learner\", \"Host\": \"algo-1\", \"Operation\": \"training\", \"epoch\": 2, \"model\": 23}, \"Metrics\": {\"train_absolute_loss_objective\": {\"sum\": 0.6444072437286377, \"count\": 1, \"min\": 0.6444072437286377, \"max\": 0.6444072437286377}}}\n",
      "\u001b[0m\n",
      "\u001b[34m#metrics {\"StartTime\": 1618999502.0673487, \"EndTime\": 1618999502.067361, \"Dimensions\": {\"Algorithm\": \"Linear Learner\", \"Host\": \"algo-1\", \"Operation\": \"training\", \"epoch\": 2, \"model\": 24}, \"Metrics\": {\"train_absolute_loss_objective\": {\"sum\": 0.8799141311645508, \"count\": 1, \"min\": 0.8799141311645508, \"max\": 0.8799141311645508}}}\n",
      "\u001b[0m\n",
      "\u001b[34m#metrics {\"StartTime\": 1618999502.067499, \"EndTime\": 1618999502.0675097, \"Dimensions\": {\"Algorithm\": \"Linear Learner\", \"Host\": \"algo-1\", \"Operation\": \"training\", \"epoch\": 2, \"model\": 25}, \"Metrics\": {\"train_absolute_loss_objective\": {\"sum\": 0.8748539161682128, \"count\": 1, \"min\": 0.8748539161682128, \"max\": 0.8748539161682128}}}\n",
      "\u001b[0m\n",
      "\u001b[34m#metrics {\"StartTime\": 1618999502.06764, \"EndTime\": 1618999502.0676503, \"Dimensions\": {\"Algorithm\": \"Linear Learner\", \"Host\": \"algo-1\", \"Operation\": \"training\", \"epoch\": 2, \"model\": 26}, \"Metrics\": {\"train_absolute_loss_objective\": {\"sum\": 0.8741814327239991, \"count\": 1, \"min\": 0.8741814327239991, \"max\": 0.8741814327239991}}}\n",
      "\u001b[0m\n",
      "\u001b[34m#metrics {\"StartTime\": 1618999502.0677845, \"EndTime\": 1618999502.0677948, \"Dimensions\": {\"Algorithm\": \"Linear Learner\", \"Host\": \"algo-1\", \"Operation\": \"training\", \"epoch\": 2, \"model\": 27}, \"Metrics\": {\"train_absolute_loss_objective\": {\"sum\": 0.8842637252807617, \"count\": 1, \"min\": 0.8842637252807617, \"max\": 0.8842637252807617}}}\n",
      "\u001b[0m\n",
      "\u001b[34m#metrics {\"StartTime\": 1618999502.067924, \"EndTime\": 1618999502.067934, \"Dimensions\": {\"Algorithm\": \"Linear Learner\", \"Host\": \"algo-1\", \"Operation\": \"training\", \"epoch\": 2, \"model\": 28}, \"Metrics\": {\"train_absolute_loss_objective\": {\"sum\": 1.1187321662902832, \"count\": 1, \"min\": 1.1187321662902832, \"max\": 1.1187321662902832}}}\n",
      "\u001b[0m\n",
      "\u001b[34m#metrics {\"StartTime\": 1618999502.0680647, \"EndTime\": 1618999502.0680745, \"Dimensions\": {\"Algorithm\": \"Linear Learner\", \"Host\": \"algo-1\", \"Operation\": \"training\", \"epoch\": 2, \"model\": 29}, \"Metrics\": {\"train_absolute_loss_objective\": {\"sum\": 1.120961971282959, \"count\": 1, \"min\": 1.120961971282959, \"max\": 1.120961971282959}}}\n",
      "\u001b[0m\n",
      "\u001b[34m#metrics {\"StartTime\": 1618999502.0682156, \"EndTime\": 1618999502.068226, \"Dimensions\": {\"Algorithm\": \"Linear Learner\", \"Host\": \"algo-1\", \"Operation\": \"training\", \"epoch\": 2, \"model\": 30}, \"Metrics\": {\"train_absolute_loss_objective\": {\"sum\": 1.1181534576416015, \"count\": 1, \"min\": 1.1181534576416015, \"max\": 1.1181534576416015}}}\n",
      "\u001b[0m\n",
      "\u001b[34m#metrics {\"StartTime\": 1618999502.068361, \"EndTime\": 1618999502.0683715, \"Dimensions\": {\"Algorithm\": \"Linear Learner\", \"Host\": \"algo-1\", \"Operation\": \"training\", \"epoch\": 2, \"model\": 31}, \"Metrics\": {\"train_absolute_loss_objective\": {\"sum\": 1.1312983894348145, \"count\": 1, \"min\": 1.1312983894348145, \"max\": 1.1312983894348145}}}\n",
      "\u001b[0m\n",
      "\u001b[34m[04/21/2021 10:05:02 INFO 140109431228224] #quality_metric: host=algo-1, epoch=2, train absolute_loss_objective <loss>=0.8329875183105468\u001b[0m\n",
      "\u001b[34m[04/21/2021 10:05:02 INFO 140109431228224] #early_stopping_criteria_metric: host=algo-1, epoch=2, criteria=absolute_loss_objective, value=0.29088069677352907\u001b[0m\n",
      "\u001b[34m[04/21/2021 10:05:02 INFO 140109431228224] Epoch 2: Loss improved. Updating best model\u001b[0m\n",
      "\u001b[34m[04/21/2021 10:05:02 INFO 140109431228224] Saving model for epoch: 2\u001b[0m\n",
      "\u001b[34m[04/21/2021 10:05:02 INFO 140109431228224] Saved checkpoint to \"/tmp/tmp7jceu6iy/mx-mod-0000.params\"\u001b[0m\n",
      "\u001b[34m[04/21/2021 10:05:02 INFO 140109431228224] #progress_metric: host=algo-1, completed 60.0 % of epochs\u001b[0m\n",
      "\u001b[34m#metrics {\"StartTime\": 1618999501.981094, \"EndTime\": 1618999502.0789328, \"Dimensions\": {\"Algorithm\": \"Linear Learner\", \"Host\": \"algo-1\", \"Operation\": \"training\", \"epoch\": 2, \"Meta\": \"training_data_iter\"}, \"Metrics\": {\"Total Records Seen\": {\"sum\": 117.0, \"count\": 1, \"min\": 117, \"max\": 117}, \"Total Batches Seen\": {\"sum\": 25.0, \"count\": 1, \"min\": 25, \"max\": 25}, \"Max Records Seen Between Resets\": {\"sum\": 28.0, \"count\": 1, \"min\": 28, \"max\": 28}, \"Max Batches Seen Between Resets\": {\"sum\": 6.0, \"count\": 1, \"min\": 6, \"max\": 6}, \"Reset Count\": {\"sum\": 5.0, \"count\": 1, \"min\": 5, \"max\": 5}, \"Number of Records Since Last Reset\": {\"sum\": 28.0, \"count\": 1, \"min\": 28, \"max\": 28}, \"Number of Batches Since Last Reset\": {\"sum\": 6.0, \"count\": 1, \"min\": 6, \"max\": 6}}}\n",
      "\u001b[0m\n",
      "\u001b[34m[04/21/2021 10:05:02 INFO 140109431228224] #throughput_metric: host=algo-1, train throughput=285.5314474659924 records/second\u001b[0m\n",
      "\u001b[34m[2021-04-21 10:05:02.186] [tensorio] [info] epoch_stats={\"data_pipeline\": \"/opt/ml/input/data/train\", \"epoch\": 10, \"duration\": 107, \"num_examples\": 6, \"num_bytes\": 1344}\u001b[0m\n",
      "\u001b[34m#metrics {\"StartTime\": 1618999502.1866865, \"EndTime\": 1618999502.186803, \"Dimensions\": {\"Algorithm\": \"Linear Learner\", \"Host\": \"algo-1\", \"Operation\": \"training\", \"epoch\": 3, \"model\": 0}, \"Metrics\": {\"train_absolute_loss_objective\": {\"sum\": 0.8101355171203614, \"count\": 1, \"min\": 0.8101355171203614, \"max\": 0.8101355171203614}}}\n",
      "\u001b[0m\n",
      "\u001b[34m#metrics {\"StartTime\": 1618999502.187086, \"EndTime\": 1618999502.1871104, \"Dimensions\": {\"Algorithm\": \"Linear Learner\", \"Host\": \"algo-1\", \"Operation\": \"training\", \"epoch\": 3, \"model\": 1}, \"Metrics\": {\"train_absolute_loss_objective\": {\"sum\": 0.8294644546508789, \"count\": 1, \"min\": 0.8294644546508789, \"max\": 0.8294644546508789}}}\n",
      "\u001b[0m\n",
      "\u001b[34m#metrics {\"StartTime\": 1618999502.1872275, \"EndTime\": 1618999502.1872423, \"Dimensions\": {\"Algorithm\": \"Linear Learner\", \"Host\": \"algo-1\", \"Operation\": \"training\", \"epoch\": 3, \"model\": 2}, \"Metrics\": {\"train_absolute_loss_objective\": {\"sum\": 0.8125084495544433, \"count\": 1, \"min\": 0.8125084495544433, \"max\": 0.8125084495544433}}}\n",
      "\u001b[0m\n",
      "\u001b[34m#metrics {\"StartTime\": 1618999502.1873462, \"EndTime\": 1618999502.1873608, \"Dimensions\": {\"Algorithm\": \"Linear Learner\", \"Host\": \"algo-1\", \"Operation\": \"training\", \"epoch\": 3, \"model\": 3}, \"Metrics\": {\"train_absolute_loss_objective\": {\"sum\": 0.828463363647461, \"count\": 1, \"min\": 0.828463363647461, \"max\": 0.828463363647461}}}\n",
      "\u001b[0m\n",
      "\u001b[34m#metrics {\"StartTime\": 1618999502.1874442, \"EndTime\": 1618999502.1874573, \"Dimensions\": {\"Algorithm\": \"Linear Learner\", \"Host\": \"algo-1\", \"Operation\": \"training\", \"epoch\": 3, \"model\": 4}, \"Metrics\": {\"train_absolute_loss_objective\": {\"sum\": 0.41203978538513186, \"count\": 1, \"min\": 0.41203978538513186, \"max\": 0.41203978538513186}}}\n",
      "\u001b[0m\n",
      "\u001b[34m#metrics {\"StartTime\": 1618999502.1874986, \"EndTime\": 1618999502.1875074, \"Dimensions\": {\"Algorithm\": \"Linear Learner\", \"Host\": \"algo-1\", \"Operation\": \"training\", \"epoch\": 3, \"model\": 5}, \"Metrics\": {\"train_absolute_loss_objective\": {\"sum\": 0.41458691120147706, \"count\": 1, \"min\": 0.41458691120147706, \"max\": 0.41458691120147706}}}\n",
      "\u001b[0m\n",
      "\u001b[34m#metrics {\"StartTime\": 1618999502.1884556, \"EndTime\": 1618999502.188484, \"Dimensions\": {\"Algorithm\": \"Linear Learner\", \"Host\": \"algo-1\", \"Operation\": \"training\", \"epoch\": 3, \"model\": 6}, \"Metrics\": {\"train_absolute_loss_objective\": {\"sum\": 0.34628570079803467, \"count\": 1, \"min\": 0.34628570079803467, \"max\": 0.34628570079803467}}}\n",
      "\u001b[0m\n",
      "\u001b[34m#metrics {\"StartTime\": 1618999502.1888313, \"EndTime\": 1618999502.1888564, \"Dimensions\": {\"Algorithm\": \"Linear Learner\", \"Host\": \"algo-1\", \"Operation\": \"training\", \"epoch\": 3, \"model\": 7}, \"Metrics\": {\"train_absolute_loss_objective\": {\"sum\": 0.25844345092773435, \"count\": 1, \"min\": 0.25844345092773435, \"max\": 0.25844345092773435}}}\n",
      "\u001b[0m\n",
      "\u001b[34m#metrics {\"StartTime\": 1618999502.188927, \"EndTime\": 1618999502.1889415, \"Dimensions\": {\"Algorithm\": \"Linear Learner\", \"Host\": \"algo-1\", \"Operation\": \"training\", \"epoch\": 3, \"model\": 8}, \"Metrics\": {\"train_absolute_loss_objective\": {\"sum\": 0.8651397228240967, \"count\": 1, \"min\": 0.8651397228240967, \"max\": 0.8651397228240967}}}\n",
      "\u001b[0m\n",
      "\u001b[34m#metrics {\"StartTime\": 1618999502.1891208, \"EndTime\": 1618999502.1891415, \"Dimensions\": {\"Algorithm\": \"Linear Learner\", \"Host\": \"algo-1\", \"Operation\": \"training\", \"epoch\": 3, \"model\": 9}, \"Metrics\": {\"train_absolute_loss_objective\": {\"sum\": 0.7980430698394776, \"count\": 1, \"min\": 0.7980430698394776, \"max\": 0.7980430698394776}}}\n",
      "\u001b[0m\n",
      "\u001b[34m#metrics {\"StartTime\": 1618999502.1892314, \"EndTime\": 1618999502.1892483, \"Dimensions\": {\"Algorithm\": \"Linear Learner\", \"Host\": \"algo-1\", \"Operation\": \"training\", \"epoch\": 3, \"model\": 10}, \"Metrics\": {\"train_absolute_loss_objective\": {\"sum\": 0.8048942756652832, \"count\": 1, \"min\": 0.8048942756652832, \"max\": 0.8048942756652832}}}\n",
      "\u001b[0m\n",
      "\u001b[34m#metrics {\"StartTime\": 1618999502.1893857, \"EndTime\": 1618999502.1894052, \"Dimensions\": {\"Algorithm\": \"Linear Learner\", \"Host\": \"algo-1\", \"Operation\": \"training\", \"epoch\": 3, \"model\": 11}, \"Metrics\": {\"train_absolute_loss_objective\": {\"sum\": 0.7900593185424805, \"count\": 1, \"min\": 0.7900593185424805, \"max\": 0.7900593185424805}}}\n",
      "\u001b[0m\n",
      "\u001b[34m#metrics {\"StartTime\": 1618999502.1894977, \"EndTime\": 1618999502.189513, \"Dimensions\": {\"Algorithm\": \"Linear Learner\", \"Host\": \"algo-1\", \"Operation\": \"training\", \"epoch\": 3, \"model\": 12}, \"Metrics\": {\"train_absolute_loss_objective\": {\"sum\": 0.35457568168640136, \"count\": 1, \"min\": 0.35457568168640136, \"max\": 0.35457568168640136}}}\n",
      "\u001b[0m\n",
      "\u001b[34m#metrics {\"StartTime\": 1618999502.189607, \"EndTime\": 1618999502.1896229, \"Dimensions\": {\"Algorithm\": \"Linear Learner\", \"Host\": \"algo-1\", \"Operation\": \"training\", \"epoch\": 3, \"model\": 13}, \"Metrics\": {\"train_absolute_loss_objective\": {\"sum\": 0.3566943836212158, \"count\": 1, \"min\": 0.3566943836212158, \"max\": 0.3566943836212158}}}\n",
      "\u001b[0m\n",
      "\u001b[34m#metrics {\"StartTime\": 1618999502.1897137, \"EndTime\": 1618999502.189728, \"Dimensions\": {\"Algorithm\": \"Linear Learner\", \"Host\": \"algo-1\", \"Operation\": \"training\", \"epoch\": 3, \"model\": 14}, \"Metrics\": {\"train_absolute_loss_objective\": {\"sum\": 0.3546502447128296, \"count\": 1, \"min\": 0.3546502447128296, \"max\": 0.3546502447128296}}}\n",
      "\u001b[0m\n",
      "\u001b[34m#metrics {\"StartTime\": 1618999502.1898105, \"EndTime\": 1618999502.1898248, \"Dimensions\": {\"Algorithm\": \"Linear Learner\", \"Host\": \"algo-1\", \"Operation\": \"training\", \"epoch\": 3, \"model\": 15}, \"Metrics\": {\"train_absolute_loss_objective\": {\"sum\": 0.35637898445129396, \"count\": 1, \"min\": 0.35637898445129396, \"max\": 0.35637898445129396}}}\n",
      "\u001b[0m\n",
      "\u001b[34m#metrics {\"StartTime\": 1618999502.1898687, \"EndTime\": 1618999502.1899152, \"Dimensions\": {\"Algorithm\": \"Linear Learner\", \"Host\": \"algo-1\", \"Operation\": \"training\", \"epoch\": 3, \"model\": 16}, \"Metrics\": {\"train_absolute_loss_objective\": {\"sum\": 0.7751459598541259, \"count\": 1, \"min\": 0.7751459598541259, \"max\": 0.7751459598541259}}}\n",
      "\u001b[0m\n",
      "\u001b[34m#metrics {\"StartTime\": 1618999502.18996, \"EndTime\": 1618999502.190005, \"Dimensions\": {\"Algorithm\": \"Linear Learner\", \"Host\": \"algo-1\", \"Operation\": \"training\", \"epoch\": 3, \"model\": 17}, \"Metrics\": {\"train_absolute_loss_objective\": {\"sum\": 0.8251924991607666, \"count\": 1, \"min\": 0.8251924991607666, \"max\": 0.8251924991607666}}}\n",
      "\u001b[0m\n",
      "\u001b[34m#metrics {\"StartTime\": 1618999502.1900828, \"EndTime\": 1618999502.1900966, \"Dimensions\": {\"Algorithm\": \"Linear Learner\", \"Host\": \"algo-1\", \"Operation\": \"training\", \"epoch\": 3, \"model\": 18}, \"Metrics\": {\"train_absolute_loss_objective\": {\"sum\": 0.8017051601409912, \"count\": 1, \"min\": 0.8017051601409912, \"max\": 0.8017051601409912}}}\n",
      "\u001b[0m\n",
      "\u001b[34m#metrics {\"StartTime\": 1618999502.1901395, \"EndTime\": 1618999502.1901827, \"Dimensions\": {\"Algorithm\": \"Linear Learner\", \"Host\": \"algo-1\", \"Operation\": \"training\", \"epoch\": 3, \"model\": 19}, \"Metrics\": {\"train_absolute_loss_objective\": {\"sum\": 0.7987977313995361, \"count\": 1, \"min\": 0.7987977313995361, \"max\": 0.7987977313995361}}}\n",
      "\u001b[0m\n",
      "\u001b[34m#metrics {\"StartTime\": 1618999502.1902251, \"EndTime\": 1618999502.1902356, \"Dimensions\": {\"Algorithm\": \"Linear Learner\", \"Host\": \"algo-1\", \"Operation\": \"training\", \"epoch\": 3, \"model\": 20}, \"Metrics\": {\"train_absolute_loss_objective\": {\"sum\": 0.2965051555633545, \"count\": 1, \"min\": 0.2965051555633545, \"max\": 0.2965051555633545}}}\n",
      "\u001b[0m\n",
      "\u001b[34m#metrics {\"StartTime\": 1618999502.190308, \"EndTime\": 1618999502.1903195, \"Dimensions\": {\"Algorithm\": \"Linear Learner\", \"Host\": \"algo-1\", \"Operation\": \"training\", \"epoch\": 3, \"model\": 21}, \"Metrics\": {\"train_absolute_loss_objective\": {\"sum\": 0.35181317806243895, \"count\": 1, \"min\": 0.35181317806243895, \"max\": 0.35181317806243895}}}\n",
      "\u001b[0m\n",
      "\u001b[34m#metrics {\"StartTime\": 1618999502.1904106, \"EndTime\": 1618999502.1904242, \"Dimensions\": {\"Algorithm\": \"Linear Learner\", \"Host\": \"algo-1\", \"Operation\": \"training\", \"epoch\": 3, \"model\": 22}, \"Metrics\": {\"train_absolute_loss_objective\": {\"sum\": 0.3025121879577637, \"count\": 1, \"min\": 0.3025121879577637, \"max\": 0.3025121879577637}}}\n",
      "\u001b[0m\n",
      "\u001b[34m#metrics {\"StartTime\": 1618999502.1905024, \"EndTime\": 1618999502.1905162, \"Dimensions\": {\"Algorithm\": \"Linear Learner\", \"Host\": \"algo-1\", \"Operation\": \"training\", \"epoch\": 3, \"model\": 23}, \"Metrics\": {\"train_absolute_loss_objective\": {\"sum\": 0.34752036571502687, \"count\": 1, \"min\": 0.34752036571502687, \"max\": 0.34752036571502687}}}\n",
      "\u001b[0m\n",
      "\u001b[34m#metrics {\"StartTime\": 1618999502.190595, \"EndTime\": 1618999502.190609, \"Dimensions\": {\"Algorithm\": \"Linear Learner\", \"Host\": \"algo-1\", \"Operation\": \"training\", \"epoch\": 3, \"model\": 24}, \"Metrics\": {\"train_absolute_loss_objective\": {\"sum\": 0.8885271167755127, \"count\": 1, \"min\": 0.8885271167755127, \"max\": 0.8885271167755127}}}\n",
      "\u001b[0m\n",
      "\u001b[34m#metrics {\"StartTime\": 1618999502.1906872, \"EndTime\": 1618999502.190701, \"Dimensions\": {\"Algorithm\": \"Linear Learner\", \"Host\": \"algo-1\", \"Operation\": \"training\", \"epoch\": 3, \"model\": 25}, \"Metrics\": {\"train_absolute_loss_objective\": {\"sum\": 0.8695352077484131, \"count\": 1, \"min\": 0.8695352077484131, \"max\": 0.8695352077484131}}}\n",
      "\u001b[0m\n",
      "\u001b[34m#metrics {\"StartTime\": 1618999502.1908, \"EndTime\": 1618999502.1908133, \"Dimensions\": {\"Algorithm\": \"Linear Learner\", \"Host\": \"algo-1\", \"Operation\": \"training\", \"epoch\": 3, \"model\": 26}, \"Metrics\": {\"train_absolute_loss_objective\": {\"sum\": 0.8781295585632324, \"count\": 1, \"min\": 0.8781295585632324, \"max\": 0.8781295585632324}}}\n",
      "\u001b[0m\n",
      "\u001b[34m#metrics {\"StartTime\": 1618999502.1908526, \"EndTime\": 1618999502.1908941, \"Dimensions\": {\"Algorithm\": \"Linear Learner\", \"Host\": \"algo-1\", \"Operation\": \"training\", \"epoch\": 3, \"model\": 27}, \"Metrics\": {\"train_absolute_loss_objective\": {\"sum\": 0.8816499996185303, \"count\": 1, \"min\": 0.8816499996185303, \"max\": 0.8816499996185303}}}\n",
      "\u001b[0m\n",
      "\u001b[34m#metrics {\"StartTime\": 1618999502.190935, \"EndTime\": 1618999502.1909444, \"Dimensions\": {\"Algorithm\": \"Linear Learner\", \"Host\": \"algo-1\", \"Operation\": \"training\", \"epoch\": 3, \"model\": 28}, \"Metrics\": {\"train_absolute_loss_objective\": {\"sum\": 0.9775408744812012, \"count\": 1, \"min\": 0.9775408744812012, \"max\": 0.9775408744812012}}}\n",
      "\u001b[0m\n",
      "\u001b[34m#metrics {\"StartTime\": 1618999502.1910176, \"EndTime\": 1618999502.1910303, \"Dimensions\": {\"Algorithm\": \"Linear Learner\", \"Host\": \"algo-1\", \"Operation\": \"training\", \"epoch\": 3, \"model\": 29}, \"Metrics\": {\"train_absolute_loss_objective\": {\"sum\": 0.9829370784759521, \"count\": 1, \"min\": 0.9829370784759521, \"max\": 0.9829370784759521}}}\n",
      "\u001b[0m\n",
      "\u001b[34m#metrics {\"StartTime\": 1618999502.1915555, \"EndTime\": 1618999502.1915789, \"Dimensions\": {\"Algorithm\": \"Linear Learner\", \"Host\": \"algo-1\", \"Operation\": \"training\", \"epoch\": 3, \"model\": 30}, \"Metrics\": {\"train_absolute_loss_objective\": {\"sum\": 0.9826854610443115, \"count\": 1, \"min\": 0.9826854610443115, \"max\": 0.9826854610443115}}}\n",
      "\u001b[0m\n",
      "\u001b[34m#metrics {\"StartTime\": 1618999502.191893, \"EndTime\": 1618999502.1919153, \"Dimensions\": {\"Algorithm\": \"Linear Learner\", \"Host\": \"algo-1\", \"Operation\": \"training\", \"epoch\": 3, \"model\": 31}, \"Metrics\": {\"train_absolute_loss_objective\": {\"sum\": 0.9491662979125977, \"count\": 1, \"min\": 0.9491662979125977, \"max\": 0.9491662979125977}}}\n",
      "\u001b[0m\n",
      "\u001b[34m[04/21/2021 10:05:02 INFO 140109431228224] #quality_metric: host=algo-1, epoch=3, train absolute_loss_objective <loss>=0.8101355171203614\u001b[0m\n",
      "\u001b[34m[04/21/2021 10:05:02 INFO 140109431228224] #early_stopping_criteria_metric: host=algo-1, epoch=3, criteria=absolute_loss_objective, value=0.25844345092773435\u001b[0m\n",
      "\u001b[34m[04/21/2021 10:05:02 INFO 140109431228224] Epoch 3: Loss improved. Updating best model\u001b[0m\n",
      "\u001b[34m[04/21/2021 10:05:02 INFO 140109431228224] Saving model for epoch: 3\u001b[0m\n",
      "\u001b[34m[04/21/2021 10:05:02 INFO 140109431228224] Saved checkpoint to \"/tmp/tmpxtcjlydx/mx-mod-0000.params\"\u001b[0m\n",
      "\u001b[34m[04/21/2021 10:05:02 INFO 140109431228224] #progress_metric: host=algo-1, completed 80.0 % of epochs\u001b[0m\n",
      "\u001b[34m#metrics {\"StartTime\": 1618999502.0793457, \"EndTime\": 1618999502.2093728, \"Dimensions\": {\"Algorithm\": \"Linear Learner\", \"Host\": \"algo-1\", \"Operation\": \"training\", \"epoch\": 3, \"Meta\": \"training_data_iter\"}, \"Metrics\": {\"Total Records Seen\": {\"sum\": 145.0, \"count\": 1, \"min\": 145, \"max\": 145}, \"Total Batches Seen\": {\"sum\": 31.0, \"count\": 1, \"min\": 31, \"max\": 31}, \"Max Records Seen Between Resets\": {\"sum\": 28.0, \"count\": 1, \"min\": 28, \"max\": 28}, \"Max Batches Seen Between Resets\": {\"sum\": 6.0, \"count\": 1, \"min\": 6, \"max\": 6}, \"Reset Count\": {\"sum\": 6.0, \"count\": 1, \"min\": 6, \"max\": 6}, \"Number of Records Since Last Reset\": {\"sum\": 28.0, \"count\": 1, \"min\": 28, \"max\": 28}, \"Number of Batches Since Last Reset\": {\"sum\": 6.0, \"count\": 1, \"min\": 6, \"max\": 6}}}\n",
      "\u001b[0m\n",
      "\u001b[34m[04/21/2021 10:05:02 INFO 140109431228224] #throughput_metric: host=algo-1, train throughput=215.17133015756687 records/second\u001b[0m\n",
      "\u001b[34m[2021-04-21 10:05:02.321] [tensorio] [info] epoch_stats={\"data_pipeline\": \"/opt/ml/input/data/train\", \"epoch\": 12, \"duration\": 111, \"num_examples\": 6, \"num_bytes\": 1344}\u001b[0m\n",
      "\u001b[34m#metrics {\"StartTime\": 1618999502.32177, \"EndTime\": 1618999502.321936, \"Dimensions\": {\"Algorithm\": \"Linear Learner\", \"Host\": \"algo-1\", \"Operation\": \"training\", \"epoch\": 4, \"model\": 0}, \"Metrics\": {\"train_absolute_loss_objective\": {\"sum\": 0.7880189990997315, \"count\": 1, \"min\": 0.7880189990997315, \"max\": 0.7880189990997315}}}\n",
      "\u001b[0m\n",
      "\u001b[34m#metrics {\"StartTime\": 1618999502.3220518, \"EndTime\": 1618999502.322082, \"Dimensions\": {\"Algorithm\": \"Linear Learner\", \"Host\": \"algo-1\", \"Operation\": \"training\", \"epoch\": 4, \"model\": 1}, \"Metrics\": {\"train_absolute_loss_objective\": {\"sum\": 0.8070820999145508, \"count\": 1, \"min\": 0.8070820999145508, \"max\": 0.8070820999145508}}}\n",
      "\u001b[0m\n",
      "\u001b[34m#metrics {\"StartTime\": 1618999502.3221622, \"EndTime\": 1618999502.3221772, \"Dimensions\": {\"Algorithm\": \"Linear Learner\", \"Host\": \"algo-1\", \"Operation\": \"training\", \"epoch\": 4, \"model\": 2}, \"Metrics\": {\"train_absolute_loss_objective\": {\"sum\": 0.7903919506072998, \"count\": 1, \"min\": 0.7903919506072998, \"max\": 0.7903919506072998}}}\n",
      "\u001b[0m\n",
      "\u001b[34m#metrics {\"StartTime\": 1618999502.322248, \"EndTime\": 1618999502.3222613, \"Dimensions\": {\"Algorithm\": \"Linear Learner\", \"Host\": \"algo-1\", \"Operation\": \"training\", \"epoch\": 4, \"model\": 3}, \"Metrics\": {\"train_absolute_loss_objective\": {\"sum\": 0.8060810089111328, \"count\": 1, \"min\": 0.8060810089111328, \"max\": 0.8060810089111328}}}\n",
      "\u001b[0m\n",
      "\u001b[34m#metrics {\"StartTime\": 1618999502.3223436, \"EndTime\": 1618999502.3223946, \"Dimensions\": {\"Algorithm\": \"Linear Learner\", \"Host\": \"algo-1\", \"Operation\": \"training\", \"epoch\": 4, \"model\": 4}, \"Metrics\": {\"train_absolute_loss_objective\": {\"sum\": 0.36076722621917723, \"count\": 1, \"min\": 0.36076722621917723, \"max\": 0.36076722621917723}}}\n",
      "\u001b[0m\n",
      "\u001b[34m#metrics {\"StartTime\": 1618999502.3224843, \"EndTime\": 1618999502.322508, \"Dimensions\": {\"Algorithm\": \"Linear Learner\", \"Host\": \"algo-1\", \"Operation\": \"training\", \"epoch\": 4, \"model\": 5}, \"Metrics\": {\"train_absolute_loss_objective\": {\"sum\": 0.3647266292572022, \"count\": 1, \"min\": 0.3647266292572022, \"max\": 0.3647266292572022}}}\n",
      "\u001b[0m\n",
      "\u001b[34m#metrics {\"StartTime\": 1618999502.3225937, \"EndTime\": 1618999502.322617, \"Dimensions\": {\"Algorithm\": \"Linear Learner\", \"Host\": \"algo-1\", \"Operation\": \"training\", \"epoch\": 4, \"model\": 6}, \"Metrics\": {\"train_absolute_loss_objective\": {\"sum\": 0.30910993099212647, \"count\": 1, \"min\": 0.30910993099212647, \"max\": 0.30910993099212647}}}\n",
      "\u001b[0m\n",
      "\u001b[34m#metrics {\"StartTime\": 1618999502.3226976, \"EndTime\": 1618999502.3227487, \"Dimensions\": {\"Algorithm\": \"Linear Learner\", \"Host\": \"algo-1\", \"Operation\": \"training\", \"epoch\": 4, \"model\": 7}, \"Metrics\": {\"train_absolute_loss_objective\": {\"sum\": 0.26303930282592775, \"count\": 1, \"min\": 0.26303930282592775, \"max\": 0.26303930282592775}}}\n",
      "\u001b[0m\n",
      "\u001b[34m#metrics {\"StartTime\": 1618999502.322828, \"EndTime\": 1618999502.3228502, \"Dimensions\": {\"Algorithm\": \"Linear Learner\", \"Host\": \"algo-1\", \"Operation\": \"training\", \"epoch\": 4, \"model\": 8}, \"Metrics\": {\"train_absolute_loss_objective\": {\"sum\": 0.8430269718170166, \"count\": 1, \"min\": 0.8430269718170166, \"max\": 0.8430269718170166}}}\n",
      "\u001b[0m\n",
      "\u001b[34m#metrics {\"StartTime\": 1618999502.3229182, \"EndTime\": 1618999502.3229313, \"Dimensions\": {\"Algorithm\": \"Linear Learner\", \"Host\": \"algo-1\", \"Operation\": \"training\", \"epoch\": 4, \"model\": 9}, \"Metrics\": {\"train_absolute_loss_objective\": {\"sum\": 0.7756651020050049, \"count\": 1, \"min\": 0.7756651020050049, \"max\": 0.7756651020050049}}}\n",
      "\u001b[0m\n",
      "\u001b[34m#metrics {\"StartTime\": 1618999502.322995, \"EndTime\": 1618999502.3230135, \"Dimensions\": {\"Algorithm\": \"Linear Learner\", \"Host\": \"algo-1\", \"Operation\": \"training\", \"epoch\": 4, \"model\": 10}, \"Metrics\": {\"train_absolute_loss_objective\": {\"sum\": 0.782781982421875, \"count\": 1, \"min\": 0.782781982421875, \"max\": 0.782781982421875}}}\n",
      "\u001b[0m\n",
      "\u001b[34m#metrics {\"StartTime\": 1618999502.323051, \"EndTime\": 1618999502.3230824, \"Dimensions\": {\"Algorithm\": \"Linear Learner\", \"Host\": \"algo-1\", \"Operation\": \"training\", \"epoch\": 4, \"model\": 11}, \"Metrics\": {\"train_absolute_loss_objective\": {\"sum\": 0.7676814365386962, \"count\": 1, \"min\": 0.7676814365386962, \"max\": 0.7676814365386962}}}\n",
      "\u001b[0m\n",
      "\u001b[34m#metrics {\"StartTime\": 1618999502.3231206, \"EndTime\": 1618999502.3231294, \"Dimensions\": {\"Algorithm\": \"Linear Learner\", \"Host\": \"algo-1\", \"Operation\": \"training\", \"epoch\": 4, \"model\": 12}, \"Metrics\": {\"train_absolute_loss_objective\": {\"sum\": 0.2739651894569397, \"count\": 1, \"min\": 0.2739651894569397, \"max\": 0.2739651894569397}}}\n",
      "\u001b[0m\n",
      "\u001b[34m#metrics {\"StartTime\": 1618999502.3231878, \"EndTime\": 1618999502.3231976, \"Dimensions\": {\"Algorithm\": \"Linear Learner\", \"Host\": \"algo-1\", \"Operation\": \"training\", \"epoch\": 4, \"model\": 13}, \"Metrics\": {\"train_absolute_loss_objective\": {\"sum\": 0.2682305335998535, \"count\": 1, \"min\": 0.2682305335998535, \"max\": 0.2682305335998535}}}\n",
      "\u001b[0m\n",
      "\u001b[34m#metrics {\"StartTime\": 1618999502.3232703, \"EndTime\": 1618999502.323283, \"Dimensions\": {\"Algorithm\": \"Linear Learner\", \"Host\": \"algo-1\", \"Operation\": \"training\", \"epoch\": 4, \"model\": 14}, \"Metrics\": {\"train_absolute_loss_objective\": {\"sum\": 0.27454821825027464, \"count\": 1, \"min\": 0.27454821825027464, \"max\": 0.27454821825027464}}}\n",
      "\u001b[0m\n",
      "\u001b[34m#metrics {\"StartTime\": 1618999502.323361, \"EndTime\": 1618999502.3233829, \"Dimensions\": {\"Algorithm\": \"Linear Learner\", \"Host\": \"algo-1\", \"Operation\": \"training\", \"epoch\": 4, \"model\": 15}, \"Metrics\": {\"train_absolute_loss_objective\": {\"sum\": 0.26576407670974733, \"count\": 1, \"min\": 0.26576407670974733, \"max\": 0.26576407670974733}}}\n",
      "\u001b[0m\n",
      "\u001b[34m#metrics {\"StartTime\": 1618999502.3234553, \"EndTime\": 1618999502.323493, \"Dimensions\": {\"Algorithm\": \"Linear Learner\", \"Host\": \"algo-1\", \"Operation\": \"training\", \"epoch\": 4, \"model\": 16}, \"Metrics\": {\"train_absolute_loss_objective\": {\"sum\": 0.7535509014129639, \"count\": 1, \"min\": 0.7535509014129639, \"max\": 0.7535509014129639}}}\n",
      "\u001b[0m\n",
      "\u001b[34m#metrics {\"StartTime\": 1618999502.3235805, \"EndTime\": 1618999502.323604, \"Dimensions\": {\"Algorithm\": \"Linear Learner\", \"Host\": \"algo-1\", \"Operation\": \"training\", \"epoch\": 4, \"model\": 17}, \"Metrics\": {\"train_absolute_loss_objective\": {\"sum\": 0.8032590770721435, \"count\": 1, \"min\": 0.8032590770721435, \"max\": 0.8032590770721435}}}\n",
      "\u001b[0m\n",
      "\u001b[34m#metrics {\"StartTime\": 1618999502.323673, \"EndTime\": 1618999502.323709, \"Dimensions\": {\"Algorithm\": \"Linear Learner\", \"Host\": \"algo-1\", \"Operation\": \"training\", \"epoch\": 4, \"model\": 18}, \"Metrics\": {\"train_absolute_loss_objective\": {\"sum\": 0.7800650882720948, \"count\": 1, \"min\": 0.7800650882720948, \"max\": 0.7800650882720948}}}\n",
      "\u001b[0m\n",
      "\u001b[34m#metrics {\"StartTime\": 1618999502.3237824, \"EndTime\": 1618999502.3237967, \"Dimensions\": {\"Algorithm\": \"Linear Learner\", \"Host\": \"algo-1\", \"Operation\": \"training\", \"epoch\": 4, \"model\": 19}, \"Metrics\": {\"train_absolute_loss_objective\": {\"sum\": 0.7769058990478516, \"count\": 1, \"min\": 0.7769058990478516, \"max\": 0.7769058990478516}}}\n",
      "\u001b[0m\n",
      "\u001b[34m#metrics {\"StartTime\": 1618999502.3238895, \"EndTime\": 1618999502.323914, \"Dimensions\": {\"Algorithm\": \"Linear Learner\", \"Host\": \"algo-1\", \"Operation\": \"training\", \"epoch\": 4, \"model\": 20}, \"Metrics\": {\"train_absolute_loss_objective\": {\"sum\": 0.5300524520874024, \"count\": 1, \"min\": 0.5300524520874024, \"max\": 0.5300524520874024}}}\n",
      "\u001b[0m\n",
      "\u001b[34m#metrics {\"StartTime\": 1618999502.3240006, \"EndTime\": 1618999502.3240232, \"Dimensions\": {\"Algorithm\": \"Linear Learner\", \"Host\": \"algo-1\", \"Operation\": \"training\", \"epoch\": 4, \"model\": 21}, \"Metrics\": {\"train_absolute_loss_objective\": {\"sum\": 0.5077891635894776, \"count\": 1, \"min\": 0.5077891635894776, \"max\": 0.5077891635894776}}}\n",
      "\u001b[0m\n",
      "\u001b[34m#metrics {\"StartTime\": 1618999502.3241043, \"EndTime\": 1618999502.3241177, \"Dimensions\": {\"Algorithm\": \"Linear Learner\", \"Host\": \"algo-1\", \"Operation\": \"training\", \"epoch\": 4, \"model\": 22}, \"Metrics\": {\"train_absolute_loss_objective\": {\"sum\": 0.5417649555206299, \"count\": 1, \"min\": 0.5417649555206299, \"max\": 0.5417649555206299}}}\n",
      "\u001b[0m\n",
      "\u001b[34m#metrics {\"StartTime\": 1618999502.3241868, \"EndTime\": 1618999502.3241994, \"Dimensions\": {\"Algorithm\": \"Linear Learner\", \"Host\": \"algo-1\", \"Operation\": \"training\", \"epoch\": 4, \"model\": 23}, \"Metrics\": {\"train_absolute_loss_objective\": {\"sum\": 0.5016746139526367, \"count\": 1, \"min\": 0.5016746139526367, \"max\": 0.5016746139526367}}}\n",
      "\u001b[0m\n",
      "\u001b[34m#metrics {\"StartTime\": 1618999502.3242786, \"EndTime\": 1618999502.3242993, \"Dimensions\": {\"Algorithm\": \"Linear Learner\", \"Host\": \"algo-1\", \"Operation\": \"training\", \"epoch\": 4, \"model\": 24}, \"Metrics\": {\"train_absolute_loss_objective\": {\"sum\": 0.8900010776519776, \"count\": 1, \"min\": 0.8900010776519776, \"max\": 0.8900010776519776}}}\n",
      "\u001b[0m\n",
      "\u001b[34m#metrics {\"StartTime\": 1618999502.3243856, \"EndTime\": 1618999502.3244092, \"Dimensions\": {\"Algorithm\": \"Linear Learner\", \"Host\": \"algo-1\", \"Operation\": \"training\", \"epoch\": 4, \"model\": 25}, \"Metrics\": {\"train_absolute_loss_objective\": {\"sum\": 0.8726356315612793, \"count\": 1, \"min\": 0.8726356315612793, \"max\": 0.8726356315612793}}}\n",
      "\u001b[0m\n",
      "\u001b[34m#metrics {\"StartTime\": 1618999502.3244898, \"EndTime\": 1618999502.3245037, \"Dimensions\": {\"Algorithm\": \"Linear Learner\", \"Host\": \"algo-1\", \"Operation\": \"training\", \"epoch\": 4, \"model\": 26}, \"Metrics\": {\"train_absolute_loss_objective\": {\"sum\": 0.8820909118652344, \"count\": 1, \"min\": 0.8820909118652344, \"max\": 0.8820909118652344}}}\n",
      "\u001b[0m\n",
      "\u001b[34m#metrics {\"StartTime\": 1618999502.3245835, \"EndTime\": 1618999502.3246055, \"Dimensions\": {\"Algorithm\": \"Linear Learner\", \"Host\": \"algo-1\", \"Operation\": \"training\", \"epoch\": 4, \"model\": 27}, \"Metrics\": {\"train_absolute_loss_objective\": {\"sum\": 0.8767690944671631, \"count\": 1, \"min\": 0.8767690944671631, \"max\": 0.8767690944671631}}}\n",
      "\u001b[0m\n",
      "\u001b[34m#metrics {\"StartTime\": 1618999502.3246884, \"EndTime\": 1618999502.3247104, \"Dimensions\": {\"Algorithm\": \"Linear Learner\", \"Host\": \"algo-1\", \"Operation\": \"training\", \"epoch\": 4, \"model\": 28}, \"Metrics\": {\"train_absolute_loss_objective\": {\"sum\": 0.7990389251708985, \"count\": 1, \"min\": 0.7990389251708985, \"max\": 0.7990389251708985}}}\n",
      "\u001b[0m\n",
      "\u001b[34m#metrics {\"StartTime\": 1618999502.3247797, \"EndTime\": 1618999502.324793, \"Dimensions\": {\"Algorithm\": \"Linear Learner\", \"Host\": \"algo-1\", \"Operation\": \"training\", \"epoch\": 4, \"model\": 29}, \"Metrics\": {\"train_absolute_loss_objective\": {\"sum\": 0.7994613170623779, \"count\": 1, \"min\": 0.7994613170623779, \"max\": 0.7994613170623779}}}\n",
      "\u001b[0m\n",
      "\u001b[34m#metrics {\"StartTime\": 1618999502.3248634, \"EndTime\": 1618999502.3248765, \"Dimensions\": {\"Algorithm\": \"Linear Learner\", \"Host\": \"algo-1\", \"Operation\": \"training\", \"epoch\": 4, \"model\": 30}, \"Metrics\": {\"train_absolute_loss_objective\": {\"sum\": 0.7907552814483643, \"count\": 1, \"min\": 0.7907552814483643, \"max\": 0.7907552814483643}}}\n",
      "\u001b[0m\n",
      "\u001b[34m#metrics {\"StartTime\": 1618999502.3249555, \"EndTime\": 1618999502.324969, \"Dimensions\": {\"Algorithm\": \"Linear Learner\", \"Host\": \"algo-1\", \"Operation\": \"training\", \"epoch\": 4, \"model\": 31}, \"Metrics\": {\"train_absolute_loss_objective\": {\"sum\": 0.8113368034362793, \"count\": 1, \"min\": 0.8113368034362793, \"max\": 0.8113368034362793}}}\n",
      "\u001b[0m\n",
      "\u001b[34m[04/21/2021 10:05:02 INFO 140109431228224] #quality_metric: host=algo-1, epoch=4, train absolute_loss_objective <loss>=0.7880189990997315\u001b[0m\n",
      "\u001b[34m[04/21/2021 10:05:02 INFO 140109431228224] #early_stopping_criteria_metric: host=algo-1, epoch=4, criteria=absolute_loss_objective, value=0.26303930282592775\u001b[0m\n",
      "\u001b[34m[04/21/2021 10:05:02 INFO 140109431228224] Saving model for epoch: 4\u001b[0m\n",
      "\u001b[34m[04/21/2021 10:05:02 INFO 140109431228224] Saved checkpoint to \"/tmp/tmpc6rkg7cr/mx-mod-0000.params\"\u001b[0m\n",
      "\u001b[34m[04/21/2021 10:05:02 INFO 140109431228224] #progress_metric: host=algo-1, completed 100.0 % of epochs\u001b[0m\n",
      "\u001b[34m#metrics {\"StartTime\": 1618999502.2095644, \"EndTime\": 1618999502.3375082, \"Dimensions\": {\"Algorithm\": \"Linear Learner\", \"Host\": \"algo-1\", \"Operation\": \"training\", \"epoch\": 4, \"Meta\": \"training_data_iter\"}, \"Metrics\": {\"Total Records Seen\": {\"sum\": 173.0, \"count\": 1, \"min\": 173, \"max\": 173}, \"Total Batches Seen\": {\"sum\": 37.0, \"count\": 1, \"min\": 37, \"max\": 37}, \"Max Records Seen Between Resets\": {\"sum\": 28.0, \"count\": 1, \"min\": 28, \"max\": 28}, \"Max Batches Seen Between Resets\": {\"sum\": 6.0, \"count\": 1, \"min\": 6, \"max\": 6}, \"Reset Count\": {\"sum\": 7.0, \"count\": 1, \"min\": 7, \"max\": 7}, \"Number of Records Since Last Reset\": {\"sum\": 28.0, \"count\": 1, \"min\": 28, \"max\": 28}, \"Number of Batches Since Last Reset\": {\"sum\": 6.0, \"count\": 1, \"min\": 6, \"max\": 6}}}\n",
      "\u001b[0m\n",
      "\u001b[34m[04/21/2021 10:05:02 INFO 140109431228224] #throughput_metric: host=algo-1, train throughput=218.55374772263298 records/second\u001b[0m\n",
      "\u001b[34m[04/21/2021 10:05:02 WARNING 140109431228224] wait_for_all_workers will not sync workers since the kv store is not running distributed\u001b[0m\n",
      "\u001b[34m[04/21/2021 10:05:02 WARNING 140109431228224] wait_for_all_workers will not sync workers since the kv store is not running distributed\u001b[0m\n",
      "\u001b[34m[2021-04-21 10:05:02.338] [tensorio] [info] epoch_stats={\"data_pipeline\": \"/opt/ml/input/data/train\", \"epoch\": 14, \"duration\": 0, \"num_examples\": 1, \"num_bytes\": 240}\u001b[0m\n",
      "\u001b[34m[2021-04-21 10:05:02.350] [tensorio] [info] epoch_stats={\"data_pipeline\": \"/opt/ml/input/data/train\", \"epoch\": 16, \"duration\": 8, \"num_examples\": 6, \"num_bytes\": 1344}\u001b[0m\n",
      "\u001b[34m[04/21/2021 10:05:02 INFO 140109431228224] #train_score (algo-1) : ('absolute_loss_objective', 9371.80385044643)\u001b[0m\n",
      "\u001b[34m[04/21/2021 10:05:02 INFO 140109431228224] #train_score (algo-1) : ('mse', 124551118.85714285)\u001b[0m\n",
      "\u001b[34m[04/21/2021 10:05:02 INFO 140109431228224] #train_score (algo-1) : ('absolute_loss', 9371.80385044643)\u001b[0m\n",
      "\u001b[34m[04/21/2021 10:05:02 INFO 140109431228224] #quality_metric: host=algo-1, train absolute_loss_objective <loss>=9371.80385044643\u001b[0m\n",
      "\u001b[34m[04/21/2021 10:05:02 INFO 140109431228224] #quality_metric: host=algo-1, train mse <loss>=124551118.85714285\u001b[0m\n",
      "\u001b[34m[04/21/2021 10:05:02 INFO 140109431228224] #quality_metric: host=algo-1, train absolute_loss <loss>=9371.80385044643\u001b[0m\n",
      "\u001b[34m[04/21/2021 10:05:02 INFO 140109431228224] Best model found for hyperparameters: {\"optimizer\": \"adam\", \"learning_rate\": 0.1, \"wd\": 0.0001, \"l1\": 0.0, \"lr_scheduler_step\": 100, \"lr_scheduler_factor\": 0.99, \"lr_scheduler_minimum_lr\": 0.0001}\u001b[0m\n",
      "\u001b[34m[04/21/2021 10:05:02 INFO 140109431228224] Saved checkpoint to \"/tmp/tmpwscbyo_y/mx-mod-0000.params\"\u001b[0m\n",
      "\u001b[34m[04/21/2021 10:05:02 INFO 140109431228224] Test data is not provided.\u001b[0m\n",
      "\u001b[34m#metrics {\"StartTime\": 1618999501.5073678, \"EndTime\": 1618999502.359283, \"Dimensions\": {\"Algorithm\": \"Linear Learner\", \"Host\": \"algo-1\", \"Operation\": \"training\"}, \"Metrics\": {\"initialize.time\": {\"sum\": 179.7354221343994, \"count\": 1, \"min\": 179.7354221343994, \"max\": 179.7354221343994}, \"epochs\": {\"sum\": 5.0, \"count\": 1, \"min\": 5, \"max\": 5}, \"check_early_stopping.time\": {\"sum\": 6.308555603027344, \"count\": 5, \"min\": 0.3731250762939453, \"max\": 1.9087791442871094}, \"update.time\": {\"sum\": 621.934175491333, \"count\": 5, \"min\": 94.27714347839355, \"max\": 160.1417064666748}, \"finalize.time\": {\"sum\": 13.619661331176758, \"count\": 1, \"min\": 13.619661331176758, \"max\": 13.619661331176758}, \"setuptime\": {\"sum\": 23.833274841308594, \"count\": 1, \"min\": 23.833274841308594, \"max\": 23.833274841308594}, \"totaltime\": {\"sum\": 1093.5304164886475, \"count\": 1, \"min\": 1093.5304164886475, \"max\": 1093.5304164886475}}}\n",
      "\u001b[0m\n",
      "\n",
      "2021-04-21 10:05:29 Uploading - Uploading generated training model\n",
      "2021-04-21 10:05:29 Completed - Training job completed\n",
      "Training seconds: 46\n",
      "Billable seconds: 13\n",
      "Managed Spot Training savings: 71.7%\n"
     ]
    }
   ],
   "source": [
    "# We have pass in the container, the type of instance that we would like to use for training \n",
    "# output path and sagemaker session into the Estimator. \n",
    "# We can also specify how many instances we would like to use for training\n",
    "\n",
    "linear = sagemaker.estimator.Estimator(container,\n",
    "                                       role, \n",
    "                                       train_instance_count = 1, \n",
    "                                       train_instance_type = 'ml.m5.xlarge',\n",
    "                                       output_path = output_location,\n",
    "                                       sagemaker_session = sagemaker_session,\n",
    "                                       train_use_spot_instances = True,\n",
    "                                       train_max_run = 300,\n",
    "                                       train_max_wait = 600)\n",
    "\n",
    "\n",
    "# We can tune parameters like the number of features that we are passing in, type of predictor like 'regressor' or 'classifier', mini batch size, epochs\n",
    "# Train 32 different versions of the model and will get the best out of them (built-in parameters optimization!)\n",
    "\n",
    "linear.set_hyperparameters(feature_dim = 1,\n",
    "                           predictor_type = 'regressor',\n",
    "                           mini_batch_size = 5,\n",
    "                           epochs = 5,\n",
    "                           num_models = 32,\n",
    "                           loss = 'absolute_loss')\n",
    "\n",
    "# Now we are ready to pass in the training data from S3 to train the linear learner model\n",
    "\n",
    "linear.fit({'train': s3_train_data})\n",
    "\n",
    "# Let's see the progress using cloudwatch logs"
   ]
  },
  {
   "cell_type": "markdown",
   "metadata": {},
   "source": [
    "#### Deploy and test the model "
   ]
  },
  {
   "cell_type": "code",
   "execution_count": 62,
   "metadata": {},
   "outputs": [
    {
     "name": "stdout",
     "output_type": "stream",
     "text": [
      "---------------!"
     ]
    }
   ],
   "source": [
    "# Deploying the model to perform inference \n",
    "\n",
    "linear_regressor = linear.deploy(initial_instance_count = 1,\n",
    "                                          instance_type = 'ml.m4.xlarge')"
   ]
  },
  {
   "cell_type": "code",
   "execution_count": 63,
   "metadata": {},
   "outputs": [],
   "source": [
    "from sagemaker.predictor import csv_serializer, json_deserializer\n",
    "\n",
    "# Content type overrides the data that will be passed to the deployed model, since the deployed model expects data in text/csv format.\n",
    "\n",
    "# Serializer accepts a single argument, the input data, and returns a sequence of bytes in the specified content type\n",
    "\n",
    "# Deserializer accepts two arguments, the result data and the response content type, and return a sequence of bytes in the specified content type.\n",
    "\n",
    "# Reference: https://sagemaker.readthedocs.io/en/stable/predictors.html\n",
    "\n",
    "sagemaker.serializers.CSVSerializer(content_type='text/csv')\n",
    "linear_regressor.serializer = csv_serializer\n",
    "linear_regressor.deserializer = json_deserializer"
   ]
  },
  {
   "cell_type": "code",
   "execution_count": 64,
   "metadata": {},
   "outputs": [
    {
     "name": "stderr",
     "output_type": "stream",
     "text": [
      "The csv_serializer has been renamed in sagemaker>=2.\n",
      "See: https://sagemaker.readthedocs.io/en/stable/v2.html for details.\n",
      "The json_deserializer has been renamed in sagemaker>=2.\n",
      "See: https://sagemaker.readthedocs.io/en/stable/v2.html for details.\n"
     ]
    }
   ],
   "source": [
    "# making prediction on the test data\n",
    "\n",
    "result = linear_regressor.predict(x_test)"
   ]
  },
  {
   "cell_type": "code",
   "execution_count": 65,
   "metadata": {},
   "outputs": [
    {
     "data": {
      "text/plain": [
       "{'predictions': [{'score': 110691.4296875},\n",
       "  {'score': 54062.25390625},\n",
       "  {'score': 102301.921875},\n",
       "  {'score': 85522.90625},\n",
       "  {'score': 62451.76171875},\n",
       "  {'score': 121178.3125},\n",
       "  {'score': 73987.3359375}]}"
      ]
     },
     "execution_count": 65,
     "metadata": {},
     "output_type": "execute_result"
    }
   ],
   "source": [
    "result # results are in Json format"
   ]
  },
  {
   "cell_type": "code",
   "execution_count": 66,
   "metadata": {},
   "outputs": [
    {
     "name": "stdout",
     "output_type": "stream",
     "text": [
      "[110691.4296875   54062.25390625 102301.921875    85522.90625\n",
      "  62451.76171875 121178.3125      73987.3359375 ]\n"
     ]
    }
   ],
   "source": [
    "# Since the result is in json format, we access the scores by iterating through the scores in the predictions\n",
    "\n",
    "predictions = np.array([r['score'] for r in result['predictions']])\n",
    "\n",
    "print(predictions)"
   ]
  },
  {
   "cell_type": "code",
   "execution_count": 68,
   "metadata": {},
   "outputs": [
    {
     "data": {
      "text/plain": [
       "Text(0.5, 1.0, 'Salary vs. Years of Experience')"
      ]
     },
     "execution_count": 68,
     "metadata": {},
     "output_type": "execute_result"
    },
    {
     "data": {
      "image/png": "[encoded data removed]",
      "text/plain": [
       "<Figure size 432x288 with 1 Axes>"
      ]
     },
     "metadata": {
      "needs_background": "light"
     },
     "output_type": "display_data"
    }
   ],
   "source": [
    "# VISUALIZE TEST SET RESULTS\n",
    "plt.scatter(x_test, y_test, color = 'gray')\n",
    "plt.plot(x_test, predictions, color = 'red')\n",
    "plt.xlabel('Years of Experience (Testing Dataset)')\n",
    "plt.ylabel('salary')\n",
    "plt.title('Salary vs. Years of Experience')"
   ]
  },
  {
   "cell_type": "code",
   "execution_count": 70,
   "metadata": {},
   "outputs": [
    {
     "ename": "ClientError",
     "evalue": "An error occurred (ValidationException) when calling the DeleteEndpointConfig operation: Could not find endpoint configuration \"arn:aws:sagemaker:ap-south-1:166845263086:endpoint-config/linear-learner-2021-04-21-10-05-53-786\".",
     "output_type": "error",
     "traceback": [
      "\u001b[0;31m---------------------------------------------------------------------------\u001b[0m",
      "\u001b[0;31mClientError\u001b[0m                               Traceback (most recent call last)",
      "\u001b[0;32m<ipython-input-70-8d7717bab678>\u001b[0m in \u001b[0;36m<module>\u001b[0;34m\u001b[0m\n\u001b[1;32m      1\u001b[0m \u001b[0;31m# Delete the end-point\u001b[0m\u001b[0;34m\u001b[0m\u001b[0;34m\u001b[0m\u001b[0;34m\u001b[0m\u001b[0m\n\u001b[1;32m      2\u001b[0m \u001b[0;34m\u001b[0m\u001b[0m\n\u001b[0;32m----> 3\u001b[0;31m \u001b[0mlinear_regressor\u001b[0m\u001b[0;34m.\u001b[0m\u001b[0mdelete_endpoint\u001b[0m\u001b[0;34m(\u001b[0m\u001b[0;34m)\u001b[0m\u001b[0;34m\u001b[0m\u001b[0;34m\u001b[0m\u001b[0m\n\u001b[0m",
      "\u001b[0;32m/opt/conda/lib/python3.7/site-packages/sagemaker/predictor.py\u001b[0m in \u001b[0;36mdelete_endpoint\u001b[0;34m(self, delete_endpoint_config)\u001b[0m\n\u001b[1;32m    302\u001b[0m         \"\"\"\n\u001b[1;32m    303\u001b[0m         \u001b[0;32mif\u001b[0m \u001b[0mdelete_endpoint_config\u001b[0m\u001b[0;34m:\u001b[0m\u001b[0;34m\u001b[0m\u001b[0;34m\u001b[0m\u001b[0m\n\u001b[0;32m--> 304\u001b[0;31m             \u001b[0mself\u001b[0m\u001b[0;34m.\u001b[0m\u001b[0m_delete_endpoint_config\u001b[0m\u001b[0;34m(\u001b[0m\u001b[0;34m)\u001b[0m\u001b[0;34m\u001b[0m\u001b[0;34m\u001b[0m\u001b[0m\n\u001b[0m\u001b[1;32m    305\u001b[0m \u001b[0;34m\u001b[0m\u001b[0m\n\u001b[1;32m    306\u001b[0m         \u001b[0mself\u001b[0m\u001b[0;34m.\u001b[0m\u001b[0msagemaker_session\u001b[0m\u001b[0;34m.\u001b[0m\u001b[0mdelete_endpoint\u001b[0m\u001b[0;34m(\u001b[0m\u001b[0mself\u001b[0m\u001b[0;34m.\u001b[0m\u001b[0mendpoint_name\u001b[0m\u001b[0;34m)\u001b[0m\u001b[0;34m\u001b[0m\u001b[0;34m\u001b[0m\u001b[0m\n",
      "\u001b[0;32m/opt/conda/lib/python3.7/site-packages/sagemaker/predictor.py\u001b[0m in \u001b[0;36m_delete_endpoint_config\u001b[0;34m(self)\u001b[0m\n\u001b[1;32m    287\u001b[0m         \u001b[0;34m\"\"\"Delete the Amazon SageMaker endpoint configuration\"\"\"\u001b[0m\u001b[0;34m\u001b[0m\u001b[0;34m\u001b[0m\u001b[0m\n\u001b[1;32m    288\u001b[0m         \u001b[0mcurrent_endpoint_config_name\u001b[0m \u001b[0;34m=\u001b[0m \u001b[0mself\u001b[0m\u001b[0;34m.\u001b[0m\u001b[0m_get_endpoint_config_name\u001b[0m\u001b[0;34m(\u001b[0m\u001b[0;34m)\u001b[0m\u001b[0;34m\u001b[0m\u001b[0;34m\u001b[0m\u001b[0m\n\u001b[0;32m--> 289\u001b[0;31m         \u001b[0mself\u001b[0m\u001b[0;34m.\u001b[0m\u001b[0msagemaker_session\u001b[0m\u001b[0;34m.\u001b[0m\u001b[0mdelete_endpoint_config\u001b[0m\u001b[0;34m(\u001b[0m\u001b[0mcurrent_endpoint_config_name\u001b[0m\u001b[0;34m)\u001b[0m\u001b[0;34m\u001b[0m\u001b[0;34m\u001b[0m\u001b[0m\n\u001b[0m\u001b[1;32m    290\u001b[0m \u001b[0;34m\u001b[0m\u001b[0m\n\u001b[1;32m    291\u001b[0m     \u001b[0;32mdef\u001b[0m \u001b[0mdelete_endpoint\u001b[0m\u001b[0;34m(\u001b[0m\u001b[0mself\u001b[0m\u001b[0;34m,\u001b[0m \u001b[0mdelete_endpoint_config\u001b[0m\u001b[0;34m=\u001b[0m\u001b[0;32mTrue\u001b[0m\u001b[0;34m)\u001b[0m\u001b[0;34m:\u001b[0m\u001b[0;34m\u001b[0m\u001b[0;34m\u001b[0m\u001b[0m\n",
      "\u001b[0;32m/opt/conda/lib/python3.7/site-packages/sagemaker/session.py\u001b[0m in \u001b[0;36mdelete_endpoint_config\u001b[0;34m(self, endpoint_config_name)\u001b[0m\n\u001b[1;32m   3020\u001b[0m         \"\"\"\n\u001b[1;32m   3021\u001b[0m         \u001b[0mLOGGER\u001b[0m\u001b[0;34m.\u001b[0m\u001b[0minfo\u001b[0m\u001b[0;34m(\u001b[0m\u001b[0;34m\"Deleting endpoint configuration with name: %s\"\u001b[0m\u001b[0;34m,\u001b[0m \u001b[0mendpoint_config_name\u001b[0m\u001b[0;34m)\u001b[0m\u001b[0;34m\u001b[0m\u001b[0;34m\u001b[0m\u001b[0m\n\u001b[0;32m-> 3022\u001b[0;31m         \u001b[0mself\u001b[0m\u001b[0;34m.\u001b[0m\u001b[0msagemaker_client\u001b[0m\u001b[0;34m.\u001b[0m\u001b[0mdelete_endpoint_config\u001b[0m\u001b[0;34m(\u001b[0m\u001b[0mEndpointConfigName\u001b[0m\u001b[0;34m=\u001b[0m\u001b[0mendpoint_config_name\u001b[0m\u001b[0;34m)\u001b[0m\u001b[0;34m\u001b[0m\u001b[0;34m\u001b[0m\u001b[0m\n\u001b[0m\u001b[1;32m   3023\u001b[0m \u001b[0;34m\u001b[0m\u001b[0m\n\u001b[1;32m   3024\u001b[0m     \u001b[0;32mdef\u001b[0m \u001b[0mdelete_model\u001b[0m\u001b[0;34m(\u001b[0m\u001b[0mself\u001b[0m\u001b[0;34m,\u001b[0m \u001b[0mmodel_name\u001b[0m\u001b[0;34m)\u001b[0m\u001b[0;34m:\u001b[0m\u001b[0;34m\u001b[0m\u001b[0;34m\u001b[0m\u001b[0m\n",
      "\u001b[0;32m/opt/conda/lib/python3.7/site-packages/botocore/client.py\u001b[0m in \u001b[0;36m_api_call\u001b[0;34m(self, *args, **kwargs)\u001b[0m\n\u001b[1;32m    355\u001b[0m                     \"%s() only accepts keyword arguments.\" % py_operation_name)\n\u001b[1;32m    356\u001b[0m             \u001b[0;31m# The \"self\" in this scope is referring to the BaseClient.\u001b[0m\u001b[0;34m\u001b[0m\u001b[0;34m\u001b[0m\u001b[0;34m\u001b[0m\u001b[0m\n\u001b[0;32m--> 357\u001b[0;31m             \u001b[0;32mreturn\u001b[0m \u001b[0mself\u001b[0m\u001b[0;34m.\u001b[0m\u001b[0m_make_api_call\u001b[0m\u001b[0;34m(\u001b[0m\u001b[0moperation_name\u001b[0m\u001b[0;34m,\u001b[0m \u001b[0mkwargs\u001b[0m\u001b[0;34m)\u001b[0m\u001b[0;34m\u001b[0m\u001b[0;34m\u001b[0m\u001b[0m\n\u001b[0m\u001b[1;32m    358\u001b[0m \u001b[0;34m\u001b[0m\u001b[0m\n\u001b[1;32m    359\u001b[0m         \u001b[0m_api_call\u001b[0m\u001b[0;34m.\u001b[0m\u001b[0m__name__\u001b[0m \u001b[0;34m=\u001b[0m \u001b[0mstr\u001b[0m\u001b[0;34m(\u001b[0m\u001b[0mpy_operation_name\u001b[0m\u001b[0;34m)\u001b[0m\u001b[0;34m\u001b[0m\u001b[0;34m\u001b[0m\u001b[0m\n",
      "\u001b[0;32m/opt/conda/lib/python3.7/site-packages/botocore/client.py\u001b[0m in \u001b[0;36m_make_api_call\u001b[0;34m(self, operation_name, api_params)\u001b[0m\n\u001b[1;32m    674\u001b[0m             \u001b[0merror_code\u001b[0m \u001b[0;34m=\u001b[0m \u001b[0mparsed_response\u001b[0m\u001b[0;34m.\u001b[0m\u001b[0mget\u001b[0m\u001b[0;34m(\u001b[0m\u001b[0;34m\"Error\"\u001b[0m\u001b[0;34m,\u001b[0m \u001b[0;34m{\u001b[0m\u001b[0;34m}\u001b[0m\u001b[0;34m)\u001b[0m\u001b[0;34m.\u001b[0m\u001b[0mget\u001b[0m\u001b[0;34m(\u001b[0m\u001b[0;34m\"Code\"\u001b[0m\u001b[0;34m)\u001b[0m\u001b[0;34m\u001b[0m\u001b[0;34m\u001b[0m\u001b[0m\n\u001b[1;32m    675\u001b[0m             \u001b[0merror_class\u001b[0m \u001b[0;34m=\u001b[0m \u001b[0mself\u001b[0m\u001b[0;34m.\u001b[0m\u001b[0mexceptions\u001b[0m\u001b[0;34m.\u001b[0m\u001b[0mfrom_code\u001b[0m\u001b[0;34m(\u001b[0m\u001b[0merror_code\u001b[0m\u001b[0;34m)\u001b[0m\u001b[0;34m\u001b[0m\u001b[0;34m\u001b[0m\u001b[0m\n\u001b[0;32m--> 676\u001b[0;31m             \u001b[0;32mraise\u001b[0m \u001b[0merror_class\u001b[0m\u001b[0;34m(\u001b[0m\u001b[0mparsed_response\u001b[0m\u001b[0;34m,\u001b[0m \u001b[0moperation_name\u001b[0m\u001b[0;34m)\u001b[0m\u001b[0;34m\u001b[0m\u001b[0;34m\u001b[0m\u001b[0m\n\u001b[0m\u001b[1;32m    677\u001b[0m         \u001b[0;32melse\u001b[0m\u001b[0;34m:\u001b[0m\u001b[0;34m\u001b[0m\u001b[0;34m\u001b[0m\u001b[0m\n\u001b[1;32m    678\u001b[0m             \u001b[0;32mreturn\u001b[0m \u001b[0mparsed_response\u001b[0m\u001b[0;34m\u001b[0m\u001b[0;34m\u001b[0m\u001b[0m\n",
      "\u001b[0;31mClientError\u001b[0m: An error occurred (ValidationException) when calling the DeleteEndpointConfig operation: Could not find endpoint configuration \"arn:aws:sagemaker:ap-south-1:166845263086:endpoint-config/linear-learner-2021-04-21-10-05-53-786\"."
     ]
    }
   ],
   "source": [
    "# Delete the end-point\n",
    "\n",
    "linear_regressor.delete_endpoint()"
   ]
  },
  {
   "cell_type": "code",
   "execution_count": null,
   "metadata": {},
   "outputs": [],
   "source": []
  }
 ],
 "metadata": {
  "instance_type": "ml.t3.medium",
  "kernelspec": {
   "display_name": "Python 3 (Data Science)",
   "language": "python",
   "name": "python3__SAGEMAKER_INTERNAL__arn:aws:sagemaker:ap-south-1:394103062818:image/datascience-1.0"
  },
  "language_info": {
   "codemirror_mode": {
    "name": "ipython",
    "version": 3
   },
   "file_extension": ".py",
   "mimetype": "text/x-python",
   "name": "python",
   "nbconvert_exporter": "python",
   "pygments_lexer": "ipython3",
   "version": "3.7.10"
  }
 },
 "nbformat": 4,
 "nbformat_minor": 4
}
